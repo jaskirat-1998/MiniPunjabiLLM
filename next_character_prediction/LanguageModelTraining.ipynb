{
 "cells": [
  {
   "cell_type": "code",
   "execution_count": 120,
   "metadata": {},
   "outputs": [],
   "source": [
    "from torch import nn\n",
    "import torch.nn.functional as F\n",
    "import numpy as np\n",
    "import torch\n",
    "import random\n",
    "import matplotlib.pyplot as plt\n",
    "import re\n",
    "from tqdm import tqdm"
   ]
  },
  {
   "cell_type": "code",
   "execution_count": 121,
   "metadata": {},
   "outputs": [],
   "source": [
    "# hyperparameters\n",
    "batch_size = 64 # how many independent sequences will we process in parallel?\n",
    "context_length = 256 # what is the maximum context length for predictions?\n",
    "max_iters = 5000\n",
    "eval_interval = 500\n",
    "learning_rate = 1e-4\n",
    "device = 'cuda' if torch.cuda.is_available() else 'cpu'\n",
    "eval_iters = 300\n",
    "n_embd = 384\n",
    "n_layers = 6\n",
    "dropout = 0.2\n",
    "n_heads = 6\n",
    "rope_embeddings = True\n"
   ]
  },
  {
   "cell_type": "code",
   "execution_count": 122,
   "metadata": {},
   "outputs": [],
   "source": [
    "with open('data/ai_corpus.txt') as file:\n",
    "    movie_data = file.read()\n",
    "\n"
   ]
  },
  {
   "cell_type": "code",
   "execution_count": 123,
   "metadata": {},
   "outputs": [
    {
     "name": "stdout",
     "output_type": "stream",
     "text": [
      "n integer for given actor, it means amount of items actor has\n",
      "price - normalized price in given state.\n",
      "BASE_PENALTY $ = -1$\n",
      "INVALID_MOVE $ = -10$\n",
      "False and True are indicating valid moves just for me.\n",
      "if action == 0:\n",
      "    &quot;BUY&quot;\n",
      "    if discrete_stock == 0:\n",
      "        return -price, True\n",
      "    else:\n",
      "        return INVALID_MOVE, False\n",
      "elif action == 1:\n",
      "    &quot;PASS&quot;\n",
      "    return 3 * BASE_PENALTY, True\n",
      "elif action == 2:\n",
      "    &quot;SELL&quot;\n",
      "    if discrete_stock &lt;= 0:\n",
      "        return INVALID_MOVE, False\n",
      "    return price * 2, True\n",
      "More about problem\n",
      "I think it is already small learning rate. Should I go even lower learning rate and bigger batch size?\n",
      "I am confused about this problem. You can see there are some -10 rewards in plot, so some outputs had invalid move, yet I don't see model to set any actions in that direction.\n",
      "Is model learning?\n",
      "Loss is going very low. So is my solution designed wrong?\n",
      "@NeilSlater thanks again for help, I found the issue, I copied values from actions\n"
     ]
    }
   ],
   "source": [
    "ind = random.randint(0,len(movie_data)-1000)\n",
    "print(movie_data[ind:ind+1000])"
   ]
  },
  {
   "cell_type": "code",
   "execution_count": 124,
   "metadata": {},
   "outputs": [
    {
     "data": {
      "text/plain": [
       "Counter({'I': 47046,\n",
       "         'n': 625419,\n",
       "         ' ': 1919096,\n",
       "         'P': 10421,\n",
       "         'o': 675534,\n",
       "         'r': 519164,\n",
       "         't': 864299,\n",
       "         'a': 719236,\n",
       "         'l': 369105,\n",
       "         '2': 17838,\n",
       "         'w': 135833,\n",
       "         'e': 1063796,\n",
       "         's': 559704,\n",
       "         'h': 374819,\n",
       "         'A': 23168,\n",
       "         \"'\": 26107,\n",
       "         'c': 279598,\n",
       "         'b': 124871,\n",
       "         '\"': 9847,\n",
       "         'k': 57687,\n",
       "         'i': 650849,\n",
       "         'd': 282793,\n",
       "         'y': 150165,\n",
       "         'g': 176674,\n",
       "         'u': 271006,\n",
       "         'p': 206388,\n",
       "         'x': 38319,\n",
       "         '.': 108055,\n",
       "         '\\n': 78778,\n",
       "         'm': 236245,\n",
       "         'f': 181574,\n",
       "         'z': 11618,\n",
       "         'Q': 4486,\n",
       "         ':': 17429,\n",
       "         'W': 8007,\n",
       "         'v': 92668,\n",
       "         '?': 11183,\n",
       "         ',': 104333,\n",
       "         'U': 3329,\n",
       "         'q': 22816,\n",
       "         'T': 28208,\n",
       "         '-': 32947,\n",
       "         'S': 16138,\n",
       "         '*': 4205,\n",
       "         'L': 11400,\n",
       "         '!': 1367,\n",
       "         'F': 7346,\n",
       "         'j': 8994,\n",
       "         'E': 8176,\n",
       "         'O': 6527,\n",
       "         '&': 11240,\n",
       "         ';': 13478,\n",
       "         'Y': 4817,\n",
       "         'B': 7707,\n",
       "         '(': 42864,\n",
       "         ')': 43236,\n",
       "         '←': 18,\n",
       "         '—': 137,\n",
       "         'G': 7629,\n",
       "         'H': 6771,\n",
       "         '1': 26018,\n",
       "         '0': 27134,\n",
       "         'K': 1742,\n",
       "         'D': 10622,\n",
       "         '/': 13914,\n",
       "         'R': 9770,\n",
       "         'C': 11252,\n",
       "         'M': 10874,\n",
       "         '@': 1276,\n",
       "         'N': 15722,\n",
       "         '3': 9153,\n",
       "         '8': 4868,\n",
       "         '5': 7291,\n",
       "         '9': 5233,\n",
       "         'V': 3300,\n",
       "         '[': 6651,\n",
       "         ']': 6684,\n",
       "         '4': 7028,\n",
       "         '6': 5004,\n",
       "         '7': 4246,\n",
       "         '$': 42448,\n",
       "         '=': 19802,\n",
       "         'J': 1103,\n",
       "         '%': 1219,\n",
       "         '>': 237,\n",
       "         '_': 37376,\n",
       "         '’': 589,\n",
       "         '+': 5542,\n",
       "         '#': 2583,\n",
       "         '~': 311,\n",
       "         '`': 553,\n",
       "         'X': 2144,\n",
       "         '“': 188,\n",
       "         '”': 196,\n",
       "         'Z': 931,\n",
       "         '\\\\': 30380,\n",
       "         '{': 18702,\n",
       "         '}': 18698,\n",
       "         '|': 2536,\n",
       "         'ç': 6,\n",
       "         'à': 4,\n",
       "         '^': 4492,\n",
       "         'ä': 9,\n",
       "         'ü': 22,\n",
       "         '\\u200a': 6,\n",
       "         'ö': 40,\n",
       "         '\\xa0': 147,\n",
       "         'ß': 10,\n",
       "         '±': 2,\n",
       "         'π': 44,\n",
       "         '×': 52,\n",
       "         '‘': 35,\n",
       "         'é': 31,\n",
       "         '−': 122,\n",
       "         '–': 159,\n",
       "         'ℝ': 9,\n",
       "         '\\xad': 1,\n",
       "         '§': 2,\n",
       "         '¿': 5,\n",
       "         '′': 14,\n",
       "         'σ': 13,\n",
       "         'á': 10,\n",
       "         'ó': 8,\n",
       "         '…': 56,\n",
       "         '⇐': 1,\n",
       "         '⇒': 3,\n",
       "         '„': 2,\n",
       "         '∅': 3,\n",
       "         '∀': 5,\n",
       "         '∈': 9,\n",
       "         '·': 11,\n",
       "         '≥': 5,\n",
       "         '∪': 1,\n",
       "         'α': 42,\n",
       "         'β': 24,\n",
       "         '⟨': 1,\n",
       "         '⟩': 1,\n",
       "         '\\u200b': 10,\n",
       "         '◦': 3,\n",
       "         '≤': 16,\n",
       "         'ï': 10,\n",
       "         '∑': 7,\n",
       "         'γ': 26,\n",
       "         'ε': 6,\n",
       "         'ϵ': 12,\n",
       "         '<': 16,\n",
       "         '€': 6,\n",
       "         '⋅': 2,\n",
       "         '₁': 2,\n",
       "         '₂': 3,\n",
       "         'ﬁ': 16,\n",
       "         'θ': 22,\n",
       "         'δ': 2,\n",
       "         '●': 1,\n",
       "         '⊇': 1,\n",
       "         'ō': 1,\n",
       "         'õ': 3,\n",
       "         '∫': 3,\n",
       "         '∼': 37,\n",
       "         'č': 2,\n",
       "         'ć': 2,\n",
       "         '√': 4,\n",
       "         '\\u200c': 8,\n",
       "         '→': 32,\n",
       "         '≫': 1,\n",
       "         '≪': 2,\n",
       "         '≡': 10,\n",
       "         'Δ': 6,\n",
       "         '̶': 6,\n",
       "         '∧': 8,\n",
       "         '¬': 3,\n",
       "         '´': 6,\n",
       "         '∨': 3,\n",
       "         'ξ': 1,\n",
       "         'ℎ': 1,\n",
       "         '定': 1,\n",
       "         '义': 1,\n",
       "         '一': 1,\n",
       "         '个': 1,\n",
       "         'ę': 1,\n",
       "         'φ': 6,\n",
       "         '°': 19,\n",
       "         '\\u2061': 1,\n",
       "         '∞': 25,\n",
       "         '➡': 5,\n",
       "         '↙': 1,\n",
       "         '↖': 1,\n",
       "         '↗': 1,\n",
       "         '↓': 2,\n",
       "         '⬈': 1,\n",
       "         '¹': 3,\n",
       "         '²': 4,\n",
       "         '³': 1,\n",
       "         '，': 2,\n",
       "         'è': 3,\n",
       "         '∃': 2,\n",
       "         'ê': 1,\n",
       "         'í': 3,\n",
       "         'ã': 2,\n",
       "         'â': 1,\n",
       "         'É': 3,\n",
       "         '»': 1,\n",
       "         '∗': 5,\n",
       "         '\\u2028': 3,\n",
       "         'ú': 5,\n",
       "         '無': 1,\n",
       "         '∣': 2,\n",
       "         'ρ': 1,\n",
       "         '½': 1,\n",
       "         'Α': 6,\n",
       "         '≈': 7,\n",
       "         '‐': 1,\n",
       "         'ﬃ': 2,\n",
       "         '：': 1,\n",
       "         'ł': 2,\n",
       "         'μ': 10,\n",
       "         '÷': 2,\n",
       "         'λ': 4,\n",
       "         '¡': 1,\n",
       "         'º': 3,\n",
       "         '†': 2,\n",
       "         'Χ': 1,\n",
       "         'ő': 1,\n",
       "         'с': 1,\n",
       "         'л': 1,\n",
       "         'о': 1,\n",
       "         'н': 1,\n",
       "         'ˈ': 4,\n",
       "         'ɔ': 1,\n",
       "         'ː': 4,\n",
       "         'ɹ': 4,\n",
       "         'ð': 2,\n",
       "         'ə': 1,\n",
       "         'ɛ': 1,\n",
       "         'ɪ': 1,\n",
       "         'ﬂ': 2,\n",
       "         'ﬀ': 1,\n",
       "         '✅': 2,\n",
       "         '┌': 52,\n",
       "         '─': 438,\n",
       "         '┐': 52,\n",
       "         '│': 275,\n",
       "         '└': 52,\n",
       "         '┬': 50,\n",
       "         '┘': 52,\n",
       "         '▽': 34,\n",
       "         '┆': 22,\n",
       "         '┴': 6,\n",
       "         '❌': 1,\n",
       "         '⭕': 1,\n",
       "         '∆': 6,\n",
       "         'Ψ': 3,\n",
       "         '\\u2000': 1,\n",
       "         '∏': 1,\n",
       "         'ω': 1})"
      ]
     },
     "execution_count": 124,
     "metadata": {},
     "output_type": "execute_result"
    }
   ],
   "source": [
    "from collections import Counter\n",
    "char_counts = Counter()\n",
    "char_counts.update(movie_data)\n",
    "char_counts"
   ]
  },
  {
   "cell_type": "markdown",
   "metadata": {},
   "source": [
    "### Removing extremely low frequency characters from vocabulary"
   ]
  },
  {
   "cell_type": "code",
   "execution_count": 125,
   "metadata": {},
   "outputs": [
    {
     "data": {
      "text/plain": [
       "{'<',\n",
       " '¡',\n",
       " '§',\n",
       " '¬',\n",
       " '\\xad',\n",
       " '°',\n",
       " '±',\n",
       " '²',\n",
       " '³',\n",
       " '´',\n",
       " '·',\n",
       " '¹',\n",
       " 'º',\n",
       " '»',\n",
       " '½',\n",
       " '¿',\n",
       " 'É',\n",
       " '×',\n",
       " 'ß',\n",
       " 'à',\n",
       " 'á',\n",
       " 'â',\n",
       " 'ã',\n",
       " 'ä',\n",
       " 'ç',\n",
       " 'è',\n",
       " 'é',\n",
       " 'ê',\n",
       " 'í',\n",
       " 'ï',\n",
       " 'ð',\n",
       " 'ó',\n",
       " 'õ',\n",
       " 'ö',\n",
       " '÷',\n",
       " 'ú',\n",
       " 'ü',\n",
       " 'ć',\n",
       " 'č',\n",
       " 'ę',\n",
       " 'ł',\n",
       " 'ō',\n",
       " 'ő',\n",
       " 'ɔ',\n",
       " 'ə',\n",
       " 'ɛ',\n",
       " 'ɪ',\n",
       " 'ɹ',\n",
       " 'ˈ',\n",
       " 'ː',\n",
       " '̶',\n",
       " 'Α',\n",
       " 'Δ',\n",
       " 'Χ',\n",
       " 'Ψ',\n",
       " 'α',\n",
       " 'β',\n",
       " 'γ',\n",
       " 'δ',\n",
       " 'ε',\n",
       " 'θ',\n",
       " 'λ',\n",
       " 'μ',\n",
       " 'ξ',\n",
       " 'π',\n",
       " 'ρ',\n",
       " 'σ',\n",
       " 'φ',\n",
       " 'ω',\n",
       " 'ϵ',\n",
       " 'л',\n",
       " 'н',\n",
       " 'о',\n",
       " 'с',\n",
       " '\\u2000',\n",
       " '\\u200a',\n",
       " '\\u200b',\n",
       " '\\u200c',\n",
       " '‐',\n",
       " '‘',\n",
       " '„',\n",
       " '†',\n",
       " '…',\n",
       " '\\u2028',\n",
       " '′',\n",
       " '\\u2061',\n",
       " '₁',\n",
       " '₂',\n",
       " '€',\n",
       " 'ℎ',\n",
       " 'ℝ',\n",
       " '←',\n",
       " '→',\n",
       " '↓',\n",
       " '↖',\n",
       " '↗',\n",
       " '↙',\n",
       " '⇐',\n",
       " '⇒',\n",
       " '∀',\n",
       " '∃',\n",
       " '∅',\n",
       " '∆',\n",
       " '∈',\n",
       " '∏',\n",
       " '∑',\n",
       " '∗',\n",
       " '√',\n",
       " '∞',\n",
       " '∣',\n",
       " '∧',\n",
       " '∨',\n",
       " '∪',\n",
       " '∫',\n",
       " '∼',\n",
       " '≈',\n",
       " '≡',\n",
       " '≤',\n",
       " '≥',\n",
       " '≪',\n",
       " '≫',\n",
       " '⊇',\n",
       " '⋅',\n",
       " '┆',\n",
       " '┌',\n",
       " '┐',\n",
       " '└',\n",
       " '┘',\n",
       " '┬',\n",
       " '┴',\n",
       " '▽',\n",
       " '●',\n",
       " '◦',\n",
       " '✅',\n",
       " '❌',\n",
       " '➡',\n",
       " '⟨',\n",
       " '⟩',\n",
       " '⬈',\n",
       " '⭕',\n",
       " '一',\n",
       " '个',\n",
       " '义',\n",
       " '定',\n",
       " '無',\n",
       " 'ﬀ',\n",
       " 'ﬁ',\n",
       " 'ﬂ',\n",
       " 'ﬃ',\n",
       " '，',\n",
       " '：'}"
      ]
     },
     "execution_count": 125,
     "metadata": {},
     "output_type": "execute_result"
    }
   ],
   "source": [
    "remove_chars = {k for k,v in char_counts.items() if v<100}\n",
    "remove_chars"
   ]
  },
  {
   "cell_type": "code",
   "execution_count": 126,
   "metadata": {},
   "outputs": [],
   "source": [
    "data = re.sub(f\"[{''.join(remove_chars)}]\",' ' , movie_data)\n",
    "data = re.sub(r\" +\", \" \", data)\n",
    "data = re.sub(r\"\\n+\", \"\\n\", data)"
   ]
  },
  {
   "cell_type": "code",
   "execution_count": 127,
   "metadata": {},
   "outputs": [
    {
     "name": "stdout",
     "output_type": "stream",
     "text": [
      "vocab_size: 104\n",
      "unique_charcters: \n",
      " !\"#$%&'()*+,-./0123456789:;=>?@ABCDEFGHIJKLMNOPQRSTUVWXYZ[\\]^_`abcdefghijklmnopqrstuvwxyz{|}~ –—’“”−─│\n",
      "Total characters in data: 11635783\n"
     ]
    }
   ],
   "source": [
    "# Getting the vocabulary of characters\n",
    "chars = sorted(list(set(data)))\n",
    "vocab_size = len(chars)\n",
    "print(f'vocab_size: {vocab_size}')\n",
    "print(f\"unique_charcters: {''.join(chars)}\")\n",
    "print(f'Total characters in data: {len(data)}')\n",
    "\n",
    "# Character encoding logic\n",
    "stoi = {char:i for i, char in enumerate(chars)}\n",
    "itos = {i:char for i, char in enumerate(chars)}\n",
    "encoder = lambda seq: [stoi[i] for i in seq]\n",
    "decoder = lambda encoding: ''.join([itos[i] for i in encoding])\n",
    "\n",
    "# Encoding the data\n",
    "data = torch.tensor(encoder(data), dtype=torch.long)\n",
    "\n",
    "\n",
    "# Train-test split\n",
    "train, test = data[:int(0.9*len(data))], data[int(0.9*len(data)):]"
   ]
  },
  {
   "cell_type": "code",
   "execution_count": 128,
   "metadata": {},
   "outputs": [
    {
     "data": {
      "text/plain": [
       "(tensor([[82, 73, 78,  ..., 78, 65, 76],\n",
       "         [77, 69, 78,  ..., 82, 68,  1],\n",
       "         [ 1, 34, 85,  ...,  1, 76, 69],\n",
       "         [79, 78,  1,  ..., 17, 17, 13]]),\n",
       " tensor([[  0,   1,   2,  ..., 253, 254, 255],\n",
       "         [  0,   1,   2,  ..., 253, 254, 255],\n",
       "         [  0,   1,   2,  ..., 253, 254, 255],\n",
       "         [  0,   1,   2,  ..., 253, 254, 255]]),\n",
       " tensor([[73, 78, 71,  ..., 65, 76,  1],\n",
       "         [69, 78, 84,  ..., 68,  1,  7],\n",
       "         [34, 85, 84,  ..., 76, 69, 84],\n",
       "         [78,  1, 79,  ..., 17, 13,  1]]))"
      ]
     },
     "execution_count": 128,
     "metadata": {},
     "output_type": "execute_result"
    }
   ],
   "source": [
    "# Getting a sample batch from the data split\n",
    "def get_batch_with_pos(split, batch_size, context_length):\n",
    "    if split == 'train':\n",
    "        data = train\n",
    "    else:\n",
    "        data = test\n",
    "        \n",
    "    #getting random starting indices for the batch_size\n",
    "    start_indices = torch.randint(\n",
    "        len(data) - context_length - 1,\n",
    "        (batch_size,)\n",
    "    )\n",
    "    x_y = torch.stack([data[i:i+context_length+1]for i in start_indices], dim=0)\n",
    "    x, y = x_y[:,:-1], x_y[:,1:]    \n",
    "    pos = torch.arange(batch_size * context_length).reshape(batch_size, context_length) % context_length\n",
    "    x, pos, y = x.to(device), pos.to(device), y.to(device)\n",
    "    return x, pos, y\n",
    "\n",
    "x, pos, y = get_batch_with_pos('train', 4, context_length)\n",
    "x, pos, y\n"
   ]
  },
  {
   "cell_type": "code",
   "execution_count": 129,
   "metadata": {},
   "outputs": [],
   "source": [
    "class RoPE(nn.Module):\n",
    "    def __init__(self, base, dim, max_seq_len):\n",
    "        super(RoPE, self).__init__()\n",
    "        theta = base ** -(torch.arange(0,dim,2)/dim)\n",
    "        pos = torch.arange(max_seq_len)\n",
    "        freq = torch.einsum('i,j->ij', pos, theta)\n",
    "        self.register_buffer('cos', freq.cos())\n",
    "        self.register_buffer('sin', freq.sin())\n",
    "    def forward(self, x):\n",
    "        B, S, _ = x.shape\n",
    "        cos = self.cos[:S]\n",
    "        sin = self.sin[:S]\n",
    "        a, b = x[:,:,::2], x[:,:,1::2]\n",
    "        a_cos, b_cos, a_sin, b_sin = a * cos, b * cos, a * sin, b * sin\n",
    "        # rot(a,b) = a cos(theta) - b sin(theta), a sin(theta) + b cos(theta)\n",
    "        rot_1, rot_2 = a_cos - b_sin, a_sin + b_cos\n",
    "        rot = torch.stack((rot_1, rot_2), -1)\n",
    "        rot_embd = rot.reshape(B, S, -1)\n",
    "        return rot_embd\n",
    "        "
   ]
  },
  {
   "cell_type": "code",
   "execution_count": 130,
   "metadata": {},
   "outputs": [],
   "source": [
    "class FeedFroward(nn.Module):\n",
    "    def __init__(self, n_embd):\n",
    "        super(FeedFroward, self).__init__()\n",
    "        self.net = nn.Sequential(\n",
    "            nn.Linear(n_embd, n_embd*4),\n",
    "            nn.ReLU(),\n",
    "            nn.Linear(n_embd*4, n_embd),\n",
    "            nn.Dropout(dropout)\n",
    "        )\n",
    "    def forward(self, x):\n",
    "        return self.net(x)\n",
    "    \n",
    "\n",
    "class AttentionHead(nn.Module):\n",
    "    def __init__(self, head_dim):\n",
    "        super(AttentionHead, self).__init__()\n",
    "        self.head_dim = head_dim\n",
    "        self.query = nn.Linear(n_embd, self.head_dim) #(B,S,C)\n",
    "        self.key = nn.Linear(n_embd, self.head_dim) #(B,S,C)\n",
    "        self.value = nn.Linear(n_embd, self.head_dim) #(B,S,C)\n",
    "        self.register_buffer('tril', torch.tril(torch.ones(context_length,context_length)))\n",
    "        self.dropout = nn.Dropout(dropout)\n",
    "        if rope_embeddings:\n",
    "            self.rope = RoPE(1e4, head_dim, 2048)\n",
    "\n",
    "    def forward(self, embed, verbose=False):\n",
    "        q = self.query(embed)\n",
    "        k = self.key(embed)\n",
    "        v = self.value(embed)\n",
    "        if rope_embeddings:\n",
    "            q = self.rope(q)\n",
    "            k = self.rope(k)\n",
    "        a = q @ k.transpose(-2,-1) * self.head_dim**-0.5\n",
    "        a = a.masked_fill(self.tril==0, float('-inf'))\n",
    "        a = F.softmax(a, dim=-1)\n",
    "        a = self.dropout(a)\n",
    "        if verbose:\n",
    "            print(a.shape)\n",
    "            plt.imshow([[j.item() for j in i]for i in a[0]])\n",
    "\n",
    "        output = a @ v\n",
    "        return output\n",
    "\n",
    "\n",
    "class MultiHeadAttention(nn.Module):\n",
    "    def __init__(self, n_heads, head_size):\n",
    "        super(MultiHeadAttention, self).__init__()\n",
    "        self.heads = nn.ModuleList([AttentionHead(head_size) for i in range(n_heads)])\n",
    "        self.proj = nn.Linear(n_embd, n_embd)\n",
    "        self.dropout = nn.Dropout(dropout)\n",
    "    def forward(self, idx, verbose = False):\n",
    "        output =  torch.cat([head(idx, verbose) for head in self.heads], dim = -1)\n",
    "        output =  self.proj(output)\n",
    "        return self.dropout(output)\n",
    "\n",
    "\n",
    "class Block(nn.Module):\n",
    "    def __init__(self, n_embd, n_heads):\n",
    "        super(Block, self).__init__()\n",
    "        self.mh_attn = MultiHeadAttention(n_heads, n_embd//n_heads)\n",
    "        #self.mh_attn = MoEMultiheadAttention(n_heads, n_embd//n_heads)\n",
    "        self.f_frwd = FeedFroward(n_embd)\n",
    "        self.ln1 = nn.LayerNorm(n_embd)\n",
    "        self.ln2 = nn.LayerNorm(n_embd)\n",
    "    def forward(self,x):\n",
    "        x = self.ln1(x)\n",
    "        x = x + self.mh_attn(x)\n",
    "        x = self.ln2(x)\n",
    "        x = x + self.f_frwd(x)\n",
    "        return x\n",
    "    \n",
    "\n",
    "class PunjabiAttentionModel(nn.Module):\n",
    "    def __init__(self):\n",
    "        super(PunjabiAttentionModel, self).__init__()\n",
    "        self.token_embedding = nn.Embedding(vocab_size, n_embd)\n",
    "        self.position_embedding = nn.Embedding(context_length, n_embd)\n",
    "        self.blocks = nn.Sequential(*[Block(n_embd, n_heads) for i in range(n_layers)])\n",
    "        self.register_buffer('tril', torch.tril(torch.ones(context_length,context_length)))\n",
    "        self.linear = nn.Linear(n_embd, vocab_size)\n",
    "        self.norm = nn.LayerNorm(n_embd)\n",
    "        \n",
    "    def forward(self, idx, positions, labels=None, verbose = False):\n",
    "        if verbose:\n",
    "            print([decoder([i.item() for i in idx[0]])],'\\n')\n",
    "        idx = self.token_embedding(idx)\n",
    "        if not rope_embeddings:\n",
    "            pos_embed = self.position_embedding(positions)\n",
    "            idx += pos_embed\n",
    "        idx = self.blocks(idx)\n",
    "        logits = self.linear(idx)\n",
    "        \n",
    "        if labels is None:\n",
    "            loss = None\n",
    "        else:\n",
    "            B, S, E = logits.shape\n",
    "            logits = logits.reshape(B * S, E)\n",
    "            labels = labels.reshape(B*S)\n",
    "            loss = F.cross_entropy(logits, labels)\n",
    "        return logits, loss\n",
    "        \n",
    "    def generate(self, idx, pos, max_seq_length, sampling=True):\n",
    "        for i in range(max_seq_length):\n",
    "            logits, _ = self(idx[:,-context_length:], pos)\n",
    "            logits = logits[:, -1, :]\n",
    "            if sampling:\n",
    "                probs = F.softmax(logits, -1)\n",
    "                generated_char_ids = torch.multinomial(probs, 1)\n",
    "                idx = torch.cat((idx, generated_char_ids),dim=1)\n",
    "            else:\n",
    "                generated_char_ids = logits.argmax(-1)\n",
    "                idx = torch.cat((idx, generated_char_ids.unsqueeze(0).T),dim=1)\n",
    "        return idx\n",
    "    def generate_upgraded(self, idx, pos, max_seq_length, temperature=1.0, top_p=1.0, sampling=True):\n",
    "        for i in range(max_seq_length):\n",
    "            logits, _ = self(idx[:,-context_length:], pos)\n",
    "            logits = logits[:, -1, :]\n",
    "\n",
    "            # Apply temperature\n",
    "            if temperature > 0:\n",
    "                logits = logits / temperature\n",
    "\n",
    "            if sampling:\n",
    "                probs = F.softmax(logits, dim=-1)\n",
    "\n",
    "                # Apply top_p (nucleus) sampling\n",
    "                if top_p < 1.0:\n",
    "                    sorted_probs, sorted_indices = torch.sort(probs, descending=True)\n",
    "                    cumulative_probs = torch.cumsum(sorted_probs, dim=-1)\n",
    "                    sorted_indices_to_remove = cumulative_probs > top_p\n",
    "                    sorted_indices_to_remove[..., 1:] = sorted_indices_to_remove[..., :-1].clone()\n",
    "                    sorted_indices_to_remove[..., 0] = 0\n",
    "                    indices_to_remove = sorted_indices_to_remove.scatter(dim=-1, index=sorted_indices, src=sorted_indices_to_remove)\n",
    "                    probs = probs.masked_fill(indices_to_remove, 0.0)\n",
    "                    probs = probs / probs.sum(dim=-1, keepdim=True)  # renormalize\n",
    "\n",
    "                generated_char_ids = torch.multinomial(probs, 1)\n",
    "                idx = torch.cat((idx, generated_char_ids), dim=1)\n",
    "            else:\n",
    "                generated_char_ids = logits.argmax(-1)\n",
    "                idx = torch.cat((idx, generated_char_ids.unsqueeze(0).T), dim=1)\n",
    "\n",
    "        return idx\n",
    "    "
   ]
  },
  {
   "cell_type": "code",
   "execution_count": 131,
   "metadata": {},
   "outputs": [],
   "source": [
    "@torch.no_grad() # to tell pytorch to not store intermediate variables as we won't do back propagation in the function\n",
    "def evaluate_attn(batch_size, model):\n",
    "    model.eval()\n",
    "    losses = {}\n",
    "    for split in ['train', 'eval']:\n",
    "        x, pos, y = get_batch_with_pos(split, batch_size, context_length)\n",
    "        _, loss = model(x, pos, y)\n",
    "        losses[split] = loss.item()\n",
    "    return losses\n",
    "\n",
    "\n",
    "model_attn = PunjabiAttentionModel()\n",
    "model_attn.to(device)\n",
    "optimizer_attn = torch.optim.AdamW(model_attn.parameters(), lr = learning_rate)\n",
    "\n",
    "\n",
    "\n",
    "    \n",
    "\n",
    "\n"
   ]
  },
  {
   "cell_type": "code",
   "execution_count": 19,
   "metadata": {},
   "outputs": [
    {
     "name": "stderr",
     "output_type": "stream",
     "text": [
      "  0%|          | 0/5000 [00:00<?, ?it/s]"
     ]
    },
    {
     "name": "stdout",
     "output_type": "stream",
     "text": [
      "train loss: 4.776429653167725, eval_loss: 4.777175426483154\n"
     ]
    },
    {
     "name": "stderr",
     "output_type": "stream",
     "text": [
      " 10%|█         | 501/5000 [01:29<25:50,  2.90it/s]"
     ]
    },
    {
     "name": "stdout",
     "output_type": "stream",
     "text": [
      "train loss: 1.5461839437484741, eval_loss: 1.5966216325759888\n"
     ]
    },
    {
     "name": "stderr",
     "output_type": "stream",
     "text": [
      " 20%|██        | 1001/5000 [02:58<22:58,  2.90it/s]"
     ]
    },
    {
     "name": "stdout",
     "output_type": "stream",
     "text": [
      "train loss: 1.4050331115722656, eval_loss: 1.3915424346923828\n"
     ]
    },
    {
     "name": "stderr",
     "output_type": "stream",
     "text": [
      " 30%|███       | 1501/5000 [04:27<20:05,  2.90it/s]"
     ]
    },
    {
     "name": "stdout",
     "output_type": "stream",
     "text": [
      "train loss: 1.3361411094665527, eval_loss: 1.3208335638046265\n"
     ]
    },
    {
     "name": "stderr",
     "output_type": "stream",
     "text": [
      " 40%|████      | 2001/5000 [05:55<17:13,  2.90it/s]"
     ]
    },
    {
     "name": "stdout",
     "output_type": "stream",
     "text": [
      "train loss: 1.256089210510254, eval_loss: 1.2939963340759277\n"
     ]
    },
    {
     "name": "stderr",
     "output_type": "stream",
     "text": [
      " 50%|█████     | 2501/5000 [07:24<14:22,  2.90it/s]"
     ]
    },
    {
     "name": "stdout",
     "output_type": "stream",
     "text": [
      "train loss: 1.2292159795761108, eval_loss: 1.2875800132751465\n"
     ]
    },
    {
     "name": "stderr",
     "output_type": "stream",
     "text": [
      " 60%|██████    | 3001/5000 [08:52<11:29,  2.90it/s]"
     ]
    },
    {
     "name": "stdout",
     "output_type": "stream",
     "text": [
      "train loss: 1.2240582704544067, eval_loss: 1.2685086727142334\n"
     ]
    },
    {
     "name": "stderr",
     "output_type": "stream",
     "text": [
      " 70%|███████   | 3501/5000 [10:21<08:37,  2.89it/s]"
     ]
    },
    {
     "name": "stdout",
     "output_type": "stream",
     "text": [
      "train loss: 1.1578712463378906, eval_loss: 1.229555606842041\n"
     ]
    },
    {
     "name": "stderr",
     "output_type": "stream",
     "text": [
      " 80%|████████  | 4001/5000 [11:50<05:44,  2.90it/s]"
     ]
    },
    {
     "name": "stdout",
     "output_type": "stream",
     "text": [
      "train loss: 1.1746991872787476, eval_loss: 1.2010360956192017\n"
     ]
    },
    {
     "name": "stderr",
     "output_type": "stream",
     "text": [
      " 90%|█████████ | 4501/5000 [13:18<02:52,  2.90it/s]"
     ]
    },
    {
     "name": "stdout",
     "output_type": "stream",
     "text": [
      "train loss: 1.1457452774047852, eval_loss: 1.2265880107879639\n"
     ]
    },
    {
     "name": "stderr",
     "output_type": "stream",
     "text": [
      "100%|██████████| 5000/5000 [14:46<00:00,  5.64it/s]\n"
     ]
    },
    {
     "name": "stdout",
     "output_type": "stream",
     "text": [
      "1.1577863693237305\n"
     ]
    }
   ],
   "source": [
    "for i in tqdm(range(max_iters)):\n",
    "    if i % eval_interval == 0:\n",
    "        losses = evaluate_attn(batch_size = eval_iters, model = model_attn)\n",
    "        print(f'train loss: {losses[\"train\"]}, eval_loss: {losses[\"eval\"]}')\n",
    "    x, pos, y = get_batch_with_pos('train', batch_size, context_length)\n",
    "    _, loss = model_attn(x, pos, y)\n",
    "    optimizer_attn.zero_grad()\n",
    "    loss.backward()\n",
    "    optimizer_attn.step()\n",
    "print(loss.item())"
   ]
  },
  {
   "cell_type": "code",
   "execution_count": 23,
   "metadata": {},
   "outputs": [
    {
     "name": "stdout",
     "output_type": "stream",
     "text": [
      "ep have exceeded the time limit so the episode ends. This also indicated that you have to bootstrap the Q value estimate.\n",
      "terminated instead is when the agent have reached a terminal state, therefore the episode naturally ends. You should use both to under\n"
     ]
    }
   ],
   "source": [
    "x,y,pos = get_batch_with_pos('eval',1,context_length)\n",
    "context = decoder(i.item() for i in x[0])\n",
    "print(context)"
   ]
  },
  {
   "cell_type": "code",
   "execution_count": 24,
   "metadata": {},
   "outputs": [
    {
     "name": "stdout",
     "output_type": "stream",
     "text": [
      "context: ep have exceeded the time limit so the episode ends. This also indicated that you have to bootstrap the Q value estimate.\n",
      "terminated instead is when the agent have reached a terminal state, therefore the episode naturally ends. You should use both to under\n",
      "generation: stand, it performs matrix should found the complexity of capable input and one current input situation. This full create networks, although there, or it means when tackling the $\\mathbf{x}$ is the next state.\n",
      "The variation is the current static sequence is easily (if there a good update of note).\n",
      "The performance detected from the discussion (or current one layers is entirely). We use a descriptor of multiple stopping from $X + \\epsilon$ following&quot; (Some Visual will worried to the DQER. Inte\n"
     ]
    }
   ],
   "source": [
    "gen_len = 500\n",
    "output = model_attn.generate(x,pos, gen_len, True)\n",
    "print(f'context: {context}')\n",
    "generation = decoder([i.item() for i in output[0][-gen_len:]])\n",
    "print(f'generation: {generation}')"
   ]
  },
  {
   "cell_type": "code",
   "execution_count": 132,
   "metadata": {},
   "outputs": [],
   "source": [
    "def generate_text(context, model, gen_len):\n",
    "    pad = ''.join([' ' for i in range(context_length - len(context))])\n",
    "    padded_context = pad + context\n",
    "    x = torch.tensor([encoder(padded_context)], device = device)\n",
    "    pos = torch.arange(context_length).unsqueeze(0)\n",
    "    pos = pos.to(device)\n",
    "    output = model.generate(x,pos, gen_len)\n",
    "    print(f'context: {context}\\n')\n",
    "    generation = decoder([i.item() for i in output[0][-gen_len:]])\n",
    "    print(f'generation: {generation}')\n",
    "    return generation\n"
   ]
  },
  {
   "cell_type": "code",
   "execution_count": 38,
   "metadata": {},
   "outputs": [
    {
     "name": "stdout",
     "output_type": "stream",
     "text": [
      "context: How are you?\n",
      "\n",
      "generation: \n",
      "I need to person this varue the data \"I think you till the best way $b$, then you can evaluate weights with variance_ of the reward state $(th)$ outputs $R_t$ (training collection the odder.\n",
      "As Win, the hidden maybe considering the WInd1500% of something espective to we\n",
      "import answer, without waiting information problem.\n",
      "ERIOWK and REILU Postly DRone's recommendation for action-space entropywhich humans definitely impocal, I was moving for all, it doesn't really lie in the region of 0 degrees c\n"
     ]
    }
   ],
   "source": [
    "gen = generate_text('How are you?', model_attn, 500)"
   ]
  },
  {
   "cell_type": "code",
   "execution_count": 43,
   "metadata": {},
   "outputs": [
    {
     "name": "stdout",
     "output_type": "stream",
     "text": [
      "context: Artificial intelligence and machine\n",
      "\n",
      "generation:  learning?\n",
      "P) to be the work (\n",
      " [cquest architecture) &quot;randomness &quot;takly&quot; embedding in\n",
      "from loop equations, if not what we define this ignoring the better q-first, tune for ask models based on the two image classify $[$p(s'|c||S,|s,a)$, and $\\epsilon$-greedy closed Rootlin Frameworks - users for sentence that is finite value functions (say keys real vappital) and policy on the index approximation power.\n",
      "This is that this point is contained Countropy when the same word images (in t\n"
     ]
    }
   ],
   "source": [
    "gen = generate_text('Artificial intelligence and machine', model_attn, 500)"
   ]
  },
  {
   "cell_type": "code",
   "execution_count": 137,
   "metadata": {},
   "outputs": [],
   "source": [
    "path = 'model/ai_model_5k_steps.pth'\n",
    "#torch.save(model_attn.state_dict(), path)"
   ]
  },
  {
   "cell_type": "code",
   "execution_count": 138,
   "metadata": {},
   "outputs": [
    {
     "data": {
      "text/plain": [
       "PunjabiAttentionModel(\n",
       "  (token_embedding): Embedding(104, 384)\n",
       "  (position_embedding): Embedding(256, 384)\n",
       "  (blocks): Sequential(\n",
       "    (0): Block(\n",
       "      (mh_attn): MultiHeadAttention(\n",
       "        (heads): ModuleList(\n",
       "          (0-5): 6 x AttentionHead(\n",
       "            (query): Linear(in_features=384, out_features=64, bias=True)\n",
       "            (key): Linear(in_features=384, out_features=64, bias=True)\n",
       "            (value): Linear(in_features=384, out_features=64, bias=True)\n",
       "            (dropout): Dropout(p=0.2, inplace=False)\n",
       "            (rope): RoPE()\n",
       "          )\n",
       "        )\n",
       "        (proj): Linear(in_features=384, out_features=384, bias=True)\n",
       "        (dropout): Dropout(p=0.2, inplace=False)\n",
       "      )\n",
       "      (f_frwd): FeedFroward(\n",
       "        (net): Sequential(\n",
       "          (0): Linear(in_features=384, out_features=1536, bias=True)\n",
       "          (1): ReLU()\n",
       "          (2): Linear(in_features=1536, out_features=384, bias=True)\n",
       "          (3): Dropout(p=0.2, inplace=False)\n",
       "        )\n",
       "      )\n",
       "      (ln1): LayerNorm((384,), eps=1e-05, elementwise_affine=True)\n",
       "      (ln2): LayerNorm((384,), eps=1e-05, elementwise_affine=True)\n",
       "    )\n",
       "    (1): Block(\n",
       "      (mh_attn): MultiHeadAttention(\n",
       "        (heads): ModuleList(\n",
       "          (0-5): 6 x AttentionHead(\n",
       "            (query): Linear(in_features=384, out_features=64, bias=True)\n",
       "            (key): Linear(in_features=384, out_features=64, bias=True)\n",
       "            (value): Linear(in_features=384, out_features=64, bias=True)\n",
       "            (dropout): Dropout(p=0.2, inplace=False)\n",
       "            (rope): RoPE()\n",
       "          )\n",
       "        )\n",
       "        (proj): Linear(in_features=384, out_features=384, bias=True)\n",
       "        (dropout): Dropout(p=0.2, inplace=False)\n",
       "      )\n",
       "      (f_frwd): FeedFroward(\n",
       "        (net): Sequential(\n",
       "          (0): Linear(in_features=384, out_features=1536, bias=True)\n",
       "          (1): ReLU()\n",
       "          (2): Linear(in_features=1536, out_features=384, bias=True)\n",
       "          (3): Dropout(p=0.2, inplace=False)\n",
       "        )\n",
       "      )\n",
       "      (ln1): LayerNorm((384,), eps=1e-05, elementwise_affine=True)\n",
       "      (ln2): LayerNorm((384,), eps=1e-05, elementwise_affine=True)\n",
       "    )\n",
       "    (2): Block(\n",
       "      (mh_attn): MultiHeadAttention(\n",
       "        (heads): ModuleList(\n",
       "          (0-5): 6 x AttentionHead(\n",
       "            (query): Linear(in_features=384, out_features=64, bias=True)\n",
       "            (key): Linear(in_features=384, out_features=64, bias=True)\n",
       "            (value): Linear(in_features=384, out_features=64, bias=True)\n",
       "            (dropout): Dropout(p=0.2, inplace=False)\n",
       "            (rope): RoPE()\n",
       "          )\n",
       "        )\n",
       "        (proj): Linear(in_features=384, out_features=384, bias=True)\n",
       "        (dropout): Dropout(p=0.2, inplace=False)\n",
       "      )\n",
       "      (f_frwd): FeedFroward(\n",
       "        (net): Sequential(\n",
       "          (0): Linear(in_features=384, out_features=1536, bias=True)\n",
       "          (1): ReLU()\n",
       "          (2): Linear(in_features=1536, out_features=384, bias=True)\n",
       "          (3): Dropout(p=0.2, inplace=False)\n",
       "        )\n",
       "      )\n",
       "      (ln1): LayerNorm((384,), eps=1e-05, elementwise_affine=True)\n",
       "      (ln2): LayerNorm((384,), eps=1e-05, elementwise_affine=True)\n",
       "    )\n",
       "    (3): Block(\n",
       "      (mh_attn): MultiHeadAttention(\n",
       "        (heads): ModuleList(\n",
       "          (0-5): 6 x AttentionHead(\n",
       "            (query): Linear(in_features=384, out_features=64, bias=True)\n",
       "            (key): Linear(in_features=384, out_features=64, bias=True)\n",
       "            (value): Linear(in_features=384, out_features=64, bias=True)\n",
       "            (dropout): Dropout(p=0.2, inplace=False)\n",
       "            (rope): RoPE()\n",
       "          )\n",
       "        )\n",
       "        (proj): Linear(in_features=384, out_features=384, bias=True)\n",
       "        (dropout): Dropout(p=0.2, inplace=False)\n",
       "      )\n",
       "      (f_frwd): FeedFroward(\n",
       "        (net): Sequential(\n",
       "          (0): Linear(in_features=384, out_features=1536, bias=True)\n",
       "          (1): ReLU()\n",
       "          (2): Linear(in_features=1536, out_features=384, bias=True)\n",
       "          (3): Dropout(p=0.2, inplace=False)\n",
       "        )\n",
       "      )\n",
       "      (ln1): LayerNorm((384,), eps=1e-05, elementwise_affine=True)\n",
       "      (ln2): LayerNorm((384,), eps=1e-05, elementwise_affine=True)\n",
       "    )\n",
       "    (4): Block(\n",
       "      (mh_attn): MultiHeadAttention(\n",
       "        (heads): ModuleList(\n",
       "          (0-5): 6 x AttentionHead(\n",
       "            (query): Linear(in_features=384, out_features=64, bias=True)\n",
       "            (key): Linear(in_features=384, out_features=64, bias=True)\n",
       "            (value): Linear(in_features=384, out_features=64, bias=True)\n",
       "            (dropout): Dropout(p=0.2, inplace=False)\n",
       "            (rope): RoPE()\n",
       "          )\n",
       "        )\n",
       "        (proj): Linear(in_features=384, out_features=384, bias=True)\n",
       "        (dropout): Dropout(p=0.2, inplace=False)\n",
       "      )\n",
       "      (f_frwd): FeedFroward(\n",
       "        (net): Sequential(\n",
       "          (0): Linear(in_features=384, out_features=1536, bias=True)\n",
       "          (1): ReLU()\n",
       "          (2): Linear(in_features=1536, out_features=384, bias=True)\n",
       "          (3): Dropout(p=0.2, inplace=False)\n",
       "        )\n",
       "      )\n",
       "      (ln1): LayerNorm((384,), eps=1e-05, elementwise_affine=True)\n",
       "      (ln2): LayerNorm((384,), eps=1e-05, elementwise_affine=True)\n",
       "    )\n",
       "    (5): Block(\n",
       "      (mh_attn): MultiHeadAttention(\n",
       "        (heads): ModuleList(\n",
       "          (0-5): 6 x AttentionHead(\n",
       "            (query): Linear(in_features=384, out_features=64, bias=True)\n",
       "            (key): Linear(in_features=384, out_features=64, bias=True)\n",
       "            (value): Linear(in_features=384, out_features=64, bias=True)\n",
       "            (dropout): Dropout(p=0.2, inplace=False)\n",
       "            (rope): RoPE()\n",
       "          )\n",
       "        )\n",
       "        (proj): Linear(in_features=384, out_features=384, bias=True)\n",
       "        (dropout): Dropout(p=0.2, inplace=False)\n",
       "      )\n",
       "      (f_frwd): FeedFroward(\n",
       "        (net): Sequential(\n",
       "          (0): Linear(in_features=384, out_features=1536, bias=True)\n",
       "          (1): ReLU()\n",
       "          (2): Linear(in_features=1536, out_features=384, bias=True)\n",
       "          (3): Dropout(p=0.2, inplace=False)\n",
       "        )\n",
       "      )\n",
       "      (ln1): LayerNorm((384,), eps=1e-05, elementwise_affine=True)\n",
       "      (ln2): LayerNorm((384,), eps=1e-05, elementwise_affine=True)\n",
       "    )\n",
       "  )\n",
       "  (linear): Linear(in_features=384, out_features=104, bias=True)\n",
       "  (norm): LayerNorm((384,), eps=1e-05, elementwise_affine=True)\n",
       ")"
      ]
     },
     "execution_count": 138,
     "metadata": {},
     "output_type": "execute_result"
    }
   ],
   "source": [
    "model_loaded = PunjabiAttentionModel()\n",
    "model_loaded.load_state_dict(torch.load(path,  map_location=device))\n",
    "model_loaded.eval()"
   ]
  },
  {
   "cell_type": "code",
   "execution_count": 46,
   "metadata": {},
   "outputs": [
    {
     "name": "stdout",
     "output_type": "stream",
     "text": [
      "context: NLP, Large language models (LLM)\n",
      "\n",
      "generation:  into \n",
      "import $(L_\\ \n",
      "\\end{bmatrix}) = \\\\ su_{t = 1}{N} \\rightarrow \\mathbb{E}[n] + \\gamma^n X$ and $\\lambda\\in\\{q(1, \\ldots,s)$$│\n",
      "To percept, then containing representation of steeps different subcase and $j$ isn(perhapt $(Z|, 1)$). Once then $\\gamma$ denote the old in $N_j$ would be $D$ and $1$. However, if you could also differ from multiple paper, or $L$):\n",
      "$$V(s)$ the goal is module time, $\\epsilon$ that models are used to $r(s, a, 0)$ is a condition of $\\epsilon}$ then $\\gamma$ conceptube a \n"
     ]
    }
   ],
   "source": [
    "gen = generate_text('NLP, Large language models (LLM)', model_loaded, 500)"
   ]
  },
  {
   "cell_type": "code",
   "execution_count": 47,
   "metadata": {},
   "outputs": [
    {
     "name": "stdout",
     "output_type": "stream",
     "text": [
      "context: Transformer\n",
      "\n",
      "generation: , then the large negative would approximately carround by the visit function `aj = softmax(other loss) will help would we understand the ILL the question random, and when dontain keeping it will be used a convolution dangerous.. \n",
      "We timing an action step in a jown case you have an local reproductive complex from one of them would find this would call a time?\n",
      "Supervised learning return length, from _ ir) your response. That is a run, have manager can be more basic mechanically there it can over t\n"
     ]
    }
   ],
   "source": [
    "gen = generate_text('Transformer', model_loaded, 500)"
   ]
  },
  {
   "cell_type": "markdown",
   "metadata": {},
   "source": [
    "## Woohoo, the model has succefully learned to YAP!"
   ]
  },
  {
   "cell_type": "code",
   "execution_count": 48,
   "metadata": {},
   "outputs": [
    {
     "name": "stderr",
     "output_type": "stream",
     "text": [
      "  0%|          | 1/5000 [00:00<58:16,  1.43it/s]"
     ]
    },
    {
     "name": "stdout",
     "output_type": "stream",
     "text": [
      "train loss: 1.1268360614776611, eval_loss: 1.1962356567382812\n"
     ]
    },
    {
     "name": "stderr",
     "output_type": "stream",
     "text": [
      " 10%|█         | 501/5000 [01:29<25:49,  2.90it/s]"
     ]
    },
    {
     "name": "stdout",
     "output_type": "stream",
     "text": [
      "train loss: 1.122773289680481, eval_loss: 1.1756556034088135\n"
     ]
    },
    {
     "name": "stderr",
     "output_type": "stream",
     "text": [
      " 20%|██        | 1001/5000 [02:57<22:59,  2.90it/s]"
     ]
    },
    {
     "name": "stdout",
     "output_type": "stream",
     "text": [
      "train loss: 1.1141284704208374, eval_loss: 1.1807650327682495\n"
     ]
    },
    {
     "name": "stderr",
     "output_type": "stream",
     "text": [
      " 30%|███       | 1501/5000 [04:26<20:05,  2.90it/s]"
     ]
    },
    {
     "name": "stdout",
     "output_type": "stream",
     "text": [
      "train loss: 1.1075068712234497, eval_loss: 1.2118185758590698\n"
     ]
    },
    {
     "name": "stderr",
     "output_type": "stream",
     "text": [
      " 40%|████      | 2001/5000 [05:54<17:14,  2.90it/s]"
     ]
    },
    {
     "name": "stdout",
     "output_type": "stream",
     "text": [
      "train loss: 1.0990971326828003, eval_loss: 1.1362547874450684\n"
     ]
    },
    {
     "name": "stderr",
     "output_type": "stream",
     "text": [
      " 50%|█████     | 2501/5000 [07:23<14:21,  2.90it/s]"
     ]
    },
    {
     "name": "stdout",
     "output_type": "stream",
     "text": [
      "train loss: 1.08599853515625, eval_loss: 1.159732460975647\n"
     ]
    },
    {
     "name": "stderr",
     "output_type": "stream",
     "text": [
      " 60%|██████    | 3001/5000 [08:51<11:29,  2.90it/s]"
     ]
    },
    {
     "name": "stdout",
     "output_type": "stream",
     "text": [
      "train loss: 1.080183744430542, eval_loss: 1.1591893434524536\n"
     ]
    },
    {
     "name": "stderr",
     "output_type": "stream",
     "text": [
      " 70%|███████   | 3501/5000 [10:20<08:36,  2.90it/s]"
     ]
    },
    {
     "name": "stdout",
     "output_type": "stream",
     "text": [
      "train loss: 1.074751615524292, eval_loss: 1.1685752868652344\n"
     ]
    },
    {
     "name": "stderr",
     "output_type": "stream",
     "text": [
      " 80%|████████  | 4001/5000 [11:49<05:44,  2.90it/s]"
     ]
    },
    {
     "name": "stdout",
     "output_type": "stream",
     "text": [
      "train loss: 1.0700061321258545, eval_loss: 1.1723171472549438\n"
     ]
    },
    {
     "name": "stderr",
     "output_type": "stream",
     "text": [
      " 90%|█████████ | 4501/5000 [13:17<02:51,  2.90it/s]"
     ]
    },
    {
     "name": "stdout",
     "output_type": "stream",
     "text": [
      "train loss: 1.0272647142410278, eval_loss: 1.1553329229354858\n"
     ]
    },
    {
     "name": "stderr",
     "output_type": "stream",
     "text": [
      "100%|██████████| 5000/5000 [14:45<00:00,  5.65it/s]\n"
     ]
    },
    {
     "name": "stdout",
     "output_type": "stream",
     "text": [
      "0.9859277009963989\n"
     ]
    }
   ],
   "source": [
    "for i in tqdm(range(max_iters)):\n",
    "    if i % eval_interval == 0:\n",
    "        losses = evaluate_attn(batch_size = eval_iters, model = model_attn)\n",
    "        print(f'train loss: {losses[\"train\"]}, eval_loss: {losses[\"eval\"]}')\n",
    "    x, pos, y = get_batch_with_pos('train', batch_size, context_length)\n",
    "    _, loss = model_attn(x, pos, y)\n",
    "    optimizer_attn.zero_grad()\n",
    "    loss.backward()\n",
    "    optimizer_attn.step()\n",
    "print(loss.item())"
   ]
  },
  {
   "cell_type": "code",
   "execution_count": 133,
   "metadata": {},
   "outputs": [],
   "source": [
    "path = 'model/ai_model_10k_steps.pth'\n",
    "#torch.save(model_attn.state_dict(), path)"
   ]
  },
  {
   "cell_type": "code",
   "execution_count": 134,
   "metadata": {},
   "outputs": [
    {
     "data": {
      "text/plain": [
       "PunjabiAttentionModel(\n",
       "  (token_embedding): Embedding(104, 384)\n",
       "  (position_embedding): Embedding(256, 384)\n",
       "  (blocks): Sequential(\n",
       "    (0): Block(\n",
       "      (mh_attn): MultiHeadAttention(\n",
       "        (heads): ModuleList(\n",
       "          (0-5): 6 x AttentionHead(\n",
       "            (query): Linear(in_features=384, out_features=64, bias=True)\n",
       "            (key): Linear(in_features=384, out_features=64, bias=True)\n",
       "            (value): Linear(in_features=384, out_features=64, bias=True)\n",
       "            (dropout): Dropout(p=0.2, inplace=False)\n",
       "            (rope): RoPE()\n",
       "          )\n",
       "        )\n",
       "        (proj): Linear(in_features=384, out_features=384, bias=True)\n",
       "        (dropout): Dropout(p=0.2, inplace=False)\n",
       "      )\n",
       "      (f_frwd): FeedFroward(\n",
       "        (net): Sequential(\n",
       "          (0): Linear(in_features=384, out_features=1536, bias=True)\n",
       "          (1): ReLU()\n",
       "          (2): Linear(in_features=1536, out_features=384, bias=True)\n",
       "          (3): Dropout(p=0.2, inplace=False)\n",
       "        )\n",
       "      )\n",
       "      (ln1): LayerNorm((384,), eps=1e-05, elementwise_affine=True)\n",
       "      (ln2): LayerNorm((384,), eps=1e-05, elementwise_affine=True)\n",
       "    )\n",
       "    (1): Block(\n",
       "      (mh_attn): MultiHeadAttention(\n",
       "        (heads): ModuleList(\n",
       "          (0-5): 6 x AttentionHead(\n",
       "            (query): Linear(in_features=384, out_features=64, bias=True)\n",
       "            (key): Linear(in_features=384, out_features=64, bias=True)\n",
       "            (value): Linear(in_features=384, out_features=64, bias=True)\n",
       "            (dropout): Dropout(p=0.2, inplace=False)\n",
       "            (rope): RoPE()\n",
       "          )\n",
       "        )\n",
       "        (proj): Linear(in_features=384, out_features=384, bias=True)\n",
       "        (dropout): Dropout(p=0.2, inplace=False)\n",
       "      )\n",
       "      (f_frwd): FeedFroward(\n",
       "        (net): Sequential(\n",
       "          (0): Linear(in_features=384, out_features=1536, bias=True)\n",
       "          (1): ReLU()\n",
       "          (2): Linear(in_features=1536, out_features=384, bias=True)\n",
       "          (3): Dropout(p=0.2, inplace=False)\n",
       "        )\n",
       "      )\n",
       "      (ln1): LayerNorm((384,), eps=1e-05, elementwise_affine=True)\n",
       "      (ln2): LayerNorm((384,), eps=1e-05, elementwise_affine=True)\n",
       "    )\n",
       "    (2): Block(\n",
       "      (mh_attn): MultiHeadAttention(\n",
       "        (heads): ModuleList(\n",
       "          (0-5): 6 x AttentionHead(\n",
       "            (query): Linear(in_features=384, out_features=64, bias=True)\n",
       "            (key): Linear(in_features=384, out_features=64, bias=True)\n",
       "            (value): Linear(in_features=384, out_features=64, bias=True)\n",
       "            (dropout): Dropout(p=0.2, inplace=False)\n",
       "            (rope): RoPE()\n",
       "          )\n",
       "        )\n",
       "        (proj): Linear(in_features=384, out_features=384, bias=True)\n",
       "        (dropout): Dropout(p=0.2, inplace=False)\n",
       "      )\n",
       "      (f_frwd): FeedFroward(\n",
       "        (net): Sequential(\n",
       "          (0): Linear(in_features=384, out_features=1536, bias=True)\n",
       "          (1): ReLU()\n",
       "          (2): Linear(in_features=1536, out_features=384, bias=True)\n",
       "          (3): Dropout(p=0.2, inplace=False)\n",
       "        )\n",
       "      )\n",
       "      (ln1): LayerNorm((384,), eps=1e-05, elementwise_affine=True)\n",
       "      (ln2): LayerNorm((384,), eps=1e-05, elementwise_affine=True)\n",
       "    )\n",
       "    (3): Block(\n",
       "      (mh_attn): MultiHeadAttention(\n",
       "        (heads): ModuleList(\n",
       "          (0-5): 6 x AttentionHead(\n",
       "            (query): Linear(in_features=384, out_features=64, bias=True)\n",
       "            (key): Linear(in_features=384, out_features=64, bias=True)\n",
       "            (value): Linear(in_features=384, out_features=64, bias=True)\n",
       "            (dropout): Dropout(p=0.2, inplace=False)\n",
       "            (rope): RoPE()\n",
       "          )\n",
       "        )\n",
       "        (proj): Linear(in_features=384, out_features=384, bias=True)\n",
       "        (dropout): Dropout(p=0.2, inplace=False)\n",
       "      )\n",
       "      (f_frwd): FeedFroward(\n",
       "        (net): Sequential(\n",
       "          (0): Linear(in_features=384, out_features=1536, bias=True)\n",
       "          (1): ReLU()\n",
       "          (2): Linear(in_features=1536, out_features=384, bias=True)\n",
       "          (3): Dropout(p=0.2, inplace=False)\n",
       "        )\n",
       "      )\n",
       "      (ln1): LayerNorm((384,), eps=1e-05, elementwise_affine=True)\n",
       "      (ln2): LayerNorm((384,), eps=1e-05, elementwise_affine=True)\n",
       "    )\n",
       "    (4): Block(\n",
       "      (mh_attn): MultiHeadAttention(\n",
       "        (heads): ModuleList(\n",
       "          (0-5): 6 x AttentionHead(\n",
       "            (query): Linear(in_features=384, out_features=64, bias=True)\n",
       "            (key): Linear(in_features=384, out_features=64, bias=True)\n",
       "            (value): Linear(in_features=384, out_features=64, bias=True)\n",
       "            (dropout): Dropout(p=0.2, inplace=False)\n",
       "            (rope): RoPE()\n",
       "          )\n",
       "        )\n",
       "        (proj): Linear(in_features=384, out_features=384, bias=True)\n",
       "        (dropout): Dropout(p=0.2, inplace=False)\n",
       "      )\n",
       "      (f_frwd): FeedFroward(\n",
       "        (net): Sequential(\n",
       "          (0): Linear(in_features=384, out_features=1536, bias=True)\n",
       "          (1): ReLU()\n",
       "          (2): Linear(in_features=1536, out_features=384, bias=True)\n",
       "          (3): Dropout(p=0.2, inplace=False)\n",
       "        )\n",
       "      )\n",
       "      (ln1): LayerNorm((384,), eps=1e-05, elementwise_affine=True)\n",
       "      (ln2): LayerNorm((384,), eps=1e-05, elementwise_affine=True)\n",
       "    )\n",
       "    (5): Block(\n",
       "      (mh_attn): MultiHeadAttention(\n",
       "        (heads): ModuleList(\n",
       "          (0-5): 6 x AttentionHead(\n",
       "            (query): Linear(in_features=384, out_features=64, bias=True)\n",
       "            (key): Linear(in_features=384, out_features=64, bias=True)\n",
       "            (value): Linear(in_features=384, out_features=64, bias=True)\n",
       "            (dropout): Dropout(p=0.2, inplace=False)\n",
       "            (rope): RoPE()\n",
       "          )\n",
       "        )\n",
       "        (proj): Linear(in_features=384, out_features=384, bias=True)\n",
       "        (dropout): Dropout(p=0.2, inplace=False)\n",
       "      )\n",
       "      (f_frwd): FeedFroward(\n",
       "        (net): Sequential(\n",
       "          (0): Linear(in_features=384, out_features=1536, bias=True)\n",
       "          (1): ReLU()\n",
       "          (2): Linear(in_features=1536, out_features=384, bias=True)\n",
       "          (3): Dropout(p=0.2, inplace=False)\n",
       "        )\n",
       "      )\n",
       "      (ln1): LayerNorm((384,), eps=1e-05, elementwise_affine=True)\n",
       "      (ln2): LayerNorm((384,), eps=1e-05, elementwise_affine=True)\n",
       "    )\n",
       "  )\n",
       "  (linear): Linear(in_features=384, out_features=104, bias=True)\n",
       "  (norm): LayerNorm((384,), eps=1e-05, elementwise_affine=True)\n",
       ")"
      ]
     },
     "execution_count": 134,
     "metadata": {},
     "output_type": "execute_result"
    }
   ],
   "source": [
    "model_loaded = PunjabiAttentionModel()\n",
    "model_loaded.load_state_dict(torch.load(path, map_location=device))\n",
    "model_loaded.eval()"
   ]
  },
  {
   "cell_type": "code",
   "execution_count": 52,
   "metadata": {},
   "outputs": [
    {
     "name": "stdout",
     "output_type": "stream",
     "text": [
      "context: AI and \n",
      "\n",
      "generation: it encountered it to predict AMA while an AI, which has N would still be a collection. Hence a perceptron correlation.\n",
      "These methods I understand and we compute the largest results that deep learning make sure that you think LSTMs to get explained by the words are memory. So, one appropriate network images that you want the problem. In theory, you also try and simpler speech-device the ratio of the 3 augmentation we are not 0, then can capturing the idea of 0.3; then linear function is the order\n"
     ]
    }
   ],
   "source": [
    "gen = generate_text('AI and ', model_loaded, 500)"
   ]
  },
  {
   "cell_type": "code",
   "execution_count": null,
   "metadata": {},
   "outputs": [],
   "source": []
  },
  {
   "cell_type": "code",
   "execution_count": 140,
   "metadata": {},
   "outputs": [],
   "source": [
    "def generate_text(context, model, gen_len, temperature=1.0, top_p=1.0):\n",
    "    pad = ''.join([' ' for i in range(context_length - len(context))])\n",
    "    padded_context = pad + context\n",
    "    x = torch.tensor([encoder(padded_context)], device = device)\n",
    "    pos = torch.arange(context_length).unsqueeze(0)\n",
    "    pos = pos.to(device)\n",
    "    output = model.generate_upgraded(x,pos, gen_len, temperature, top_p)\n",
    "    print(f'context: {context}\\n')\n",
    "    generation = decoder([i.item() for i in output[0][-gen_len:]])\n",
    "    print(f'generation: {generation}')\n",
    "    return generation\n"
   ]
  },
  {
   "cell_type": "code",
   "execution_count": 149,
   "metadata": {},
   "outputs": [
    {
     "name": "stdout",
     "output_type": "stream",
     "text": [
      "temperature: 0.5, top_p: 0.1\n",
      "\n",
      "context: AI and machine\n",
      "\n",
      "generation:  learning algorithms and the same state is a single action for the same time step in the same state in the same time. The problem is that the same as a single state and the same state is a single action space in the same state space in the same state and the same state is a single state and the same state is a single state and the same state is a single state and the same state is a single state and action that the model will be a single state and the same state is a single action space and the \n",
      "----------------------------\n",
      "\n",
      "\n",
      "temperature: 0.5, top_p: 0.3\n",
      "\n",
      "context: AI and machine\n",
      "\n",
      "generation:  learning algorithms and the output is a continuous action space in the same time step in the same time. The problem is that the problem is that the same state is a continuous action space in the case of the problem in the same as a single state and the same state is a single action space and the same state is a single state and the output of the problem in the context of the state and the output of the problem in the context of the problem in the same state and the same as a single state and th\n",
      "----------------------------\n",
      "\n",
      "\n",
      "temperature: 0.5, top_p: 0.5\n",
      "\n",
      "context: AI and machine\n",
      "\n",
      "generation:  learning algorithms and the model is a matrix of the model to be a problem in the context of the problem in the same as a positive set of the problem in the case of the context of the context of the problem in the context of the problem in the problem in the same state and the context of the state and a specific policy for the state and the context of the context of the context of the context of the policy in the context of the state and the policy is the same as a single action space in the co\n",
      "----------------------------\n",
      "\n",
      "\n",
      "temperature: 0.5, top_p: 0.6\n",
      "\n",
      "context: AI and machine\n",
      "\n",
      "generation:  learning algorithms and the model to interact the same state in the time step in the problem in the context of the input to the same time. The reward is the same state is the model will be the model to produce a machine learning algorithm is the same as a simple problem in the context of the state and the same policy and the policy gradient descent in the paper that is the problem that it will be the same as a problem with the context of the policy and the model will be the same thing that it i\n",
      "----------------------------\n",
      "\n",
      "\n",
      "temperature: 0.5, top_p: 0.9\n",
      "\n",
      "context: AI and machine\n",
      "\n",
      "generation:  learning algorithm to learn the state in the tensor to choose the state space and state the action values of the state and starting state transitions that can be done on the state space for an artificial intelligent in the context of a state in the case of the policy is deterministic function in the state and then consider the same problem in the same state space of the architecture to the output of the problem in the paper. This is considered the application of the first problem to be solved t\n",
      "----------------------------\n",
      "\n",
      "\n",
      "temperature: 1, top_p: 0.1\n",
      "\n",
      "context: AI and machine\n",
      "\n",
      "generation:  learning algorithms and the same state is a single action for the same time step in the same state in the same time. The problem is that the model is to solve the problem in the case of the state and the output of the problem in the same state of the problem in the same state and the same state is a single state and the same state is a single state and the same state is a single and the output of the problem in the same state is a single and the policy is a single state and the same state is a \n",
      "----------------------------\n",
      "\n",
      "\n",
      "temperature: 1, top_p: 0.3\n",
      "\n",
      "context: AI and machine\n",
      "\n",
      "generation:  learning to be a complete in the same as the same state and the action space is the model to make a single state and a state of the model and so the same state in the paper and the same as a positive set of possible states that the agent is a state of the state and the output layer to the policy gradient descent in the context of the context of the same state space and state and action space to the context of the policy is a matrix of the problem in the same time. The action space is a simple a\n",
      "----------------------------\n",
      "\n",
      "\n",
      "temperature: 1, top_p: 0.5\n",
      "\n",
      "context: AI and machine\n",
      "\n",
      "generation:  learning in the sense of the parameters of the current control the model with respect to the output in the parameter to a state and in the future to continue the context of a convolution for a continuous value function and an input feature vector for each policy that would be a lot of different context and completely probably separate the model of the policy gradient descent on the training set of states and the intent space to a continuous value function that in the details of the model is to \n",
      "----------------------------\n",
      "\n",
      "\n",
      "temperature: 1, top_p: 0.6\n",
      "\n",
      "context: AI and machine\n",
      "\n",
      "generation:  learning the architecture is a more of selecting an observation function (as it always the number of interested in the training set is an approximation algorithm and so on. The resulting internal network which contains a constant problem as the output state and an input data set of networks are to actually interested in the reported search topic to the policy function in the time step. \n",
      "A policy algorithm that we may not sure that the policy is included an algorithm for the training data from a\n",
      "----------------------------\n",
      "\n",
      "\n",
      "temperature: 1, top_p: 0.9\n",
      "\n",
      "context: AI and machine\n",
      "\n",
      "generation:  learning all of the output that games. This can be done on the best way assumed to be useful information in the expectation between the code for active learning. For example, if it is not really add a neural network would not its pretty foundation, and the behaviour policy $\\pi_i$ (are there is encodes on the part it into shows the target representation algorithms and validation its taken step $x_i$.\n",
      "What is the mapping we can both word the learning matrices, and require an algorithm is a graph\n",
      "----------------------------\n",
      "\n",
      "\n",
      "temperature: 1.5, top_p: 0.1\n",
      "\n",
      "context: AI and machine\n",
      "\n",
      "generation:  learning algorithms and the same as a single state and the output of the context of the context of the problem in the context of the problem in the context of the context of the context of the problem in the same state of the state and action that the model is a continuous action space in the same as a single state and action that the model will be a complex to the problem in the context of the context of the context of the problem in the context of the context of the context of the problem in \n",
      "----------------------------\n",
      "\n",
      "\n",
      "temperature: 1.5, top_p: 0.3\n",
      "\n",
      "context: AI and machine\n",
      "\n",
      "generation:  learning it to move a complete state to a training policy (the second parameters that it is always the state in the case of problem that can allow the agent in the paper and in the problem and the model to contain the same policy in a network to start with state space and in the same amount of the network to solve a tensor way to do it in the set of parameters of the state value of a policy gradient algorithm to continuous to a policy that it is a more than one in the same time. In other words,\n",
      "----------------------------\n",
      "\n",
      "\n",
      "temperature: 1.5, top_p: 0.5\n",
      "\n",
      "context: AI and machine\n",
      "\n",
      "generation:  learning algorithms for a problem (I think a program in a posted on the state of such a model from the network (the target is a probability for the answer.)\n",
      "When it could policy with a calculation for superintelligence is called 1000 problems. So in policy gradient policy iteration.\n",
      "So what you mean some examples of the model and then the training dataset. If you have a deep learning for example problem that some more popular because we can detect the images are all of the positions of problems\n",
      "----------------------------\n",
      "\n",
      "\n",
      "temperature: 1.5, top_p: 0.6\n",
      "\n",
      "context: AI and machine\n",
      "\n",
      "generation:  the application to worry than the case of change and no ever at random. Also, I can think there are more complicated an image and never update we have no obtained above, but it will not policy gradient and it as opposed to the agent or more for example.\n",
      "Are the policy is not included, the reward is weird as neural networks from different answer.\n",
      "I am not an optimization to post, so you have a mathematical reward is not managed it being classification allow on the reason of the model with part i\n",
      "----------------------------\n",
      "\n",
      "\n",
      "temperature: 1.5, top_p: 0.9\n",
      "\n",
      "context: AI and machine\n",
      "\n",
      "generation:  learning upscale full danger?\n",
      "an evently worth approximator.\n",
      "If D,cj,HC, w us your model to buy how set its long.\n",
      "You say if relating, I'm trying too see: The agent's uncertain. I know go it accuracy makes, bitakes IDO and do clarity it without detailing erratifics: modern AI:H; KHeader\n",
      "tunits (23202) data&quot; this, never seconstruction on-buards loosed above. Introducing an Nius.\n",
      "Returns-much Autoencoders for bothin whome task, and lett family limitten off-critic gap talls can take, you to o\n",
      "----------------------------\n",
      "\n",
      "\n"
     ]
    }
   ],
   "source": [
    "temperatures = [0.5, 1, 1.5]\n",
    "top_p = [0.1, 0.3, 0.5, 0.6, 0.9]\n",
    "for t in temperatures:\n",
    "    for p in top_p:\n",
    "        print(f\"temperature: {t}, top_p: {p}\\n\")\n",
    "        gen = generate_text('AI and machine', model_loaded, 500, temperature=t, top_p=p)\n",
    "        print('----------------------------\\n\\n')"
   ]
  },
  {
   "cell_type": "code",
   "execution_count": 153,
   "metadata": {},
   "outputs": [],
   "source": [
    "x, y, pos = get_batch_with_pos('test', 6, 256)"
   ]
  },
  {
   "cell_type": "code",
   "execution_count": 161,
   "metadata": {},
   "outputs": [
    {
     "name": "stdout",
     "output_type": "stream",
     "text": [
      "context: e-force solutions that create only hype - it is obvious to me that with more computation, data and model capacity, a model trained to minimize some objective might perform better, but who cares if the generated text contains fewer errors or &quot;seems to \n",
      "\n",
      "generation: provide the next time step at the policy gradient into a single context of the model to solve the policy in the sense of the state is a positive of a convolution to perform a convolution for the same called the problem of possible and action that can be de\n",
      "------------------------\n",
      "\n",
      "context: ender?\n",
      "The values need to be stored during each batch only, as the forward values are needed to calculate the gradients.\n",
      "A relevant equation from back propagation is how to derive $\\nabla_{z_j^{(k)}}J$, or the gradient of error function $J$ with respect to\n",
      "\n",
      "generation:  the reward function $p_\\pi$ where $x_i$ is a reward $i$ the depth of the problem in the same as a convolution of $y_i$ is the next state $x_t$ and $x_i$ and $i$ and $x_i$ in the expected value of the policy $x_1$ and $y_1$ and $f_1$ in $x_1$ and $x_1$ and\n",
      "------------------------\n",
      "\n",
      "context: he available training data, the network size, and the available compute.\n",
      "This questions has also been answered here and here.\n",
      "Twin Delayed DDPG (TD3) uses a double Q trick since the policy is deterministic like in DDPG, which is to mitigate the maximum ove\n",
      "\n",
      "generation: r time to start the training data and the problem with a state and the problem with a linear approach to the optimal policy is also the same policy gradient and start of the target network is independent on the next state and representation in the state th\n",
      "------------------------\n",
      "\n",
      "context: \n",
      "The second objective\n",
      "is the next sentence prediction (NSP) task. This is a binary\n",
      "classification task for predicting whether two sentences are\n",
      "subsequent in the original text.\n",
      "I am looking for such objective function as mathematical definition.\n",
      "Understand\n",
      "\n",
      "generation: ing the context of my network contains a lot of detecting the problem in the dataset of the model is not to contain the optimal policy in the environment (such as the network to the other problem). The problem is that the context of the problem and an inte\n",
      "------------------------\n",
      "\n",
      "context:  support in $[-\\infty, \\infty]$, and so limiting the actions was done by truncating the distribution which is not much clever, and in fact usually results in lower performance: I guess because you have no gradients when actions fall outside the desired ran\n",
      "\n",
      "generation: ge (in the first complex approximation). The only possible contains a model that would be much more sophisticated by a neural network to the same time. A policy gradient in the experience replay in the paper because the problem that is not to the same expl\n",
      "------------------------\n",
      "\n",
      "context: e things.\n",
      "A good interactive explanation can be seen at MLU-explain: https://mlu-explain.github.io/bias-variance/\n",
      "I've been playing around with nanoGPT, and recently I decided I wanted to fine-tune it using the dolly instruction set. This data set consists\n",
      "\n",
      "generation:  of the environment is a separate the same set of the models which in the same state is completely represented in the test into the network architecture. It is not an action for the model is an answer to a problem with the network and the model is not to b\n",
      "------------------------\n",
      "\n"
     ]
    }
   ],
   "source": [
    "contexts = [decoder([j.item() for j in i]) for i in x]\n",
    "for context in contexts:\n",
    "    gen = generate_text(context, model_loaded, 256, temperature=1, top_p=0.5)\n",
    "    print('------------------------\\n')"
   ]
  },
  {
   "cell_type": "code",
   "execution_count": 139,
   "metadata": {},
   "outputs": [
    {
     "name": "stdout",
     "output_type": "stream",
     "text": [
      "context: AI and \n",
      "\n",
      "generation: something, if M intelligentax.\n",
      "Concinclude Some using Connected UR * ard and for random. Essentially, the same features mean by the optimal value, especially up-by-clarifycase linear for weights and evolutions *N* simple* curves argument for all image deeplearning. However, the problem rectangly words, the learning model (separate for tweet longer and then clipping for your problem state).\n",
      "Insearch case, it is back finding itself.\n",
      "&quot;a paper Intron&quot; (axis without knowing action etc) is c\n"
     ]
    }
   ],
   "source": [
    "gen = generate_text('AI and ', model_loaded, 100)"
   ]
  },
  {
   "cell_type": "code",
   "execution_count": null,
   "metadata": {},
   "outputs": [],
   "source": []
  },
  {
   "cell_type": "code",
   "execution_count": 49,
   "metadata": {},
   "outputs": [
    {
     "data": {
      "text/plain": [
       "tensor([ 0.5697,  0.2498, -0.3047, -0.5448, -0.5410,  0.8568, -0.4991,  0.1679,\n",
       "        -0.3779, -0.1210, -0.1450,  0.6663,  0.3774,  0.8255,  0.5919,  0.4672,\n",
       "        -1.1712,  0.2417,  0.0509, -0.3119,  0.4026, -0.5967,  0.6641, -0.5662,\n",
       "         0.3841, -0.4602, -0.4926,  0.1171,  0.4809,  0.0376,  0.2115,  0.9371,\n",
       "        -0.0817, -0.6111, -0.0407, -0.3396,  0.0108, -0.6285, -1.0472, -1.2361,\n",
       "         0.1221,  0.7897, -0.9812, -0.7271, -0.0184,  0.5605,  0.7131,  1.6568,\n",
       "        -0.5996,  0.0499,  0.1793,  0.6818,  0.4649,  0.4592,  0.0977,  0.4875,\n",
       "        -0.2542, -0.4355, -0.8222, -0.4712, -1.7023,  0.0223,  0.1061, -0.2641,\n",
       "         0.3260,  0.4232, -0.2637,  0.0819, -0.3178, -0.1890, -1.4600,  0.4860,\n",
       "        -0.1431,  1.4096,  0.5978, -0.0707, -0.2015, -1.2384,  0.3305,  0.0857,\n",
       "         0.0065, -0.1367,  0.3823, -0.4993, -0.7677,  0.3216,  0.4791, -1.2550,\n",
       "         0.3929,  0.6452, -0.9320,  0.1709,  0.4395,  0.0556,  0.7812,  1.0457,\n",
       "         0.7088,  1.3041, -0.9440, -0.3060, -0.4245,  0.6992,  0.3609, -0.4526],\n",
       "       grad_fn=<SelectBackward0>)"
      ]
     },
     "execution_count": 49,
     "metadata": {},
     "output_type": "execute_result"
    }
   ],
   "source": [
    "last_logits[0]"
   ]
  },
  {
   "cell_type": "code",
   "execution_count": 52,
   "metadata": {},
   "outputs": [
    {
     "data": {
      "text/plain": [
       "<matplotlib.collections.PathCollection at 0x14822b2b0>"
      ]
     },
     "execution_count": 52,
     "metadata": {},
     "output_type": "execute_result"
    },
    {
     "data": {
      "image/png": "[encoded data removed]",
      "text/plain": [
       "<Figure size 640x480 with 1 Axes>"
      ]
     },
     "metadata": {},
     "output_type": "display_data"
    }
   ],
   "source": [
    "import matplotlib.pyplot as plt\n",
    "temp = 0.5\n",
    "\n",
    "plt.scatter(range(last_logits.shape[1]), [i.item() for i in F.softmax(last_logits[0], dim=-1)], color = 'blue')\n",
    "plt.scatter(range(last_logits.shape[1]), [i.item() for i in F.softmax(last_logits[0]/temp, dim=-1)], color='green')"
   ]
  },
  {
   "cell_type": "code",
   "execution_count": 53,
   "metadata": {},
   "outputs": [
    {
     "data": {
      "text/plain": [
       "tensor([0.0140, 0.0102, 0.0059, 0.0046, 0.0046, 0.0187, 0.0048, 0.0094, 0.0054,\n",
       "        0.0070, 0.0069, 0.0155, 0.0116, 0.0181, 0.0143, 0.0127, 0.0025, 0.0101,\n",
       "        0.0084, 0.0058, 0.0119, 0.0044, 0.0154, 0.0045, 0.0117, 0.0050, 0.0049,\n",
       "        0.0089, 0.0128, 0.0082, 0.0098, 0.0203, 0.0073, 0.0043, 0.0076, 0.0057,\n",
       "        0.0080, 0.0042, 0.0028, 0.0023, 0.0090, 0.0175, 0.0030, 0.0038, 0.0078,\n",
       "        0.0139, 0.0162, 0.0416, 0.0044, 0.0083, 0.0095, 0.0157, 0.0126, 0.0126,\n",
       "        0.0088, 0.0129, 0.0062, 0.0051, 0.0035, 0.0050, 0.0014, 0.0081, 0.0088,\n",
       "        0.0061, 0.0110, 0.0121, 0.0061, 0.0086, 0.0058, 0.0066, 0.0018, 0.0129,\n",
       "        0.0069, 0.0325, 0.0144, 0.0074, 0.0065, 0.0023, 0.0110, 0.0086, 0.0080,\n",
       "        0.0069, 0.0116, 0.0048, 0.0037, 0.0110, 0.0128, 0.0023, 0.0118, 0.0151,\n",
       "        0.0031, 0.0094, 0.0123, 0.0084, 0.0173, 0.0226, 0.0161, 0.0292, 0.0031,\n",
       "        0.0058, 0.0052, 0.0160, 0.0114, 0.0050], grad_fn=<SoftmaxBackward0>)"
      ]
     },
     "execution_count": 53,
     "metadata": {},
     "output_type": "execute_result"
    }
   ],
   "source": [
    "soft = F.softmax(last_logits[0], dim=-1)\n",
    "soft"
   ]
  },
  {
   "cell_type": "code",
   "execution_count": 54,
   "metadata": {},
   "outputs": [
    {
     "data": {
      "text/plain": [
       "tensor([ 1.1395,  0.4997, -0.6093, -1.0897, -1.0819,  1.7136, -0.9981,  0.3359,\n",
       "        -0.7559, -0.2421, -0.2899,  1.3326,  0.7547,  1.6509,  1.1838,  0.9344,\n",
       "        -2.3424,  0.4835,  0.1019, -0.6238,  0.8052, -1.1934,  1.3282, -1.1325,\n",
       "         0.7682, -0.9204, -0.9851,  0.2342,  0.9618,  0.0752,  0.4229,  1.8741,\n",
       "        -0.1635, -1.2223, -0.0814, -0.6792,  0.0215, -1.2570, -2.0945, -2.4722,\n",
       "         0.2442,  1.5794, -1.9624, -1.4543, -0.0369,  1.1209,  1.4261,  3.3136,\n",
       "        -1.1991,  0.0998,  0.3586,  1.3635,  0.9297,  0.9183,  0.1955,  0.9749,\n",
       "        -0.5084, -0.8710, -1.6445, -0.9425, -3.4045,  0.0446,  0.2123, -0.5281,\n",
       "         0.6520,  0.8463, -0.5274,  0.1638, -0.6357, -0.3781, -2.9201,  0.9720,\n",
       "        -0.2862,  2.8192,  1.1957, -0.1414, -0.4029, -2.4767,  0.6609,  0.1713,\n",
       "         0.0130, -0.2735,  0.7645, -0.9987, -1.5354,  0.6432,  0.9582, -2.5100,\n",
       "         0.7858,  1.2904, -1.8640,  0.3417,  0.8789,  0.1111,  1.5623,  2.0915,\n",
       "         1.4177,  2.6081, -1.8881, -0.6120, -0.8489,  1.3985,  0.7218, -0.9053],\n",
       "       grad_fn=<DivBackward0>)"
      ]
     },
     "execution_count": 54,
     "metadata": {},
     "output_type": "execute_result"
    }
   ],
   "source": [
    "last_logits[0]/0.5"
   ]
  },
  {
   "cell_type": "code",
   "execution_count": 55,
   "metadata": {},
   "outputs": [
    {
     "data": {
      "text/plain": [
       "(tensor([0.0416, 0.0325, 0.0292, 0.0226, 0.0203, 0.0187, 0.0181, 0.0175, 0.0173,\n",
       "         0.0162, 0.0161, 0.0160, 0.0157, 0.0155, 0.0154, 0.0151, 0.0144, 0.0143,\n",
       "         0.0140, 0.0139, 0.0129, 0.0129, 0.0128, 0.0128, 0.0127, 0.0126, 0.0126,\n",
       "         0.0123, 0.0121, 0.0119, 0.0118, 0.0117, 0.0116, 0.0116, 0.0114, 0.0110,\n",
       "         0.0110, 0.0110, 0.0102, 0.0101, 0.0098, 0.0095, 0.0094, 0.0094, 0.0090,\n",
       "         0.0089, 0.0088, 0.0088, 0.0086, 0.0086, 0.0084, 0.0084, 0.0083, 0.0082,\n",
       "         0.0081, 0.0080, 0.0080, 0.0078, 0.0076, 0.0074, 0.0073, 0.0070, 0.0069,\n",
       "         0.0069, 0.0069, 0.0066, 0.0065, 0.0062, 0.0061, 0.0061, 0.0059, 0.0058,\n",
       "         0.0058, 0.0058, 0.0057, 0.0054, 0.0052, 0.0051, 0.0050, 0.0050, 0.0050,\n",
       "         0.0049, 0.0048, 0.0048, 0.0046, 0.0046, 0.0045, 0.0044, 0.0044, 0.0043,\n",
       "         0.0042, 0.0038, 0.0037, 0.0035, 0.0031, 0.0031, 0.0030, 0.0028, 0.0025,\n",
       "         0.0023, 0.0023, 0.0023, 0.0018, 0.0014], grad_fn=<SortBackward0>),\n",
       " tensor([ 47,  73,  97,  95,  31,   5,  13,  41,  94,  46,  96, 101,  51,  11,\n",
       "          22,  89,  74,  14,   0,  45,  55,  71,  28,  86,  15,  52,  53,  92,\n",
       "          65,  20,  88,  24,  82,  12, 102,  78,  64,  85,   1,  17,  30,  50,\n",
       "          91,   7,  40,  27,  62,  54,  79,  67,  93,  18,  49,  29,  61,  36,\n",
       "          80,  44,  34,  75,  32,   9,  81,  72,  10,  69,  76,  56,  66,  63,\n",
       "           2,  99,  19,  68,  35,   8, 100,  57, 103,  25,  59,  26,   6,  83,\n",
       "           4,   3,  23,  21,  48,  33,  37,  43,  84,  58,  90,  98,  42,  38,\n",
       "          16,  39,  77,  87,  70,  60]))"
      ]
     },
     "execution_count": 55,
     "metadata": {},
     "output_type": "execute_result"
    }
   ],
   "source": [
    "sorted_probs, sorted_indices = torch.sort(soft, descending=True)\n",
    "sorted_probs, sorted_indices"
   ]
  },
  {
   "cell_type": "code",
   "execution_count": 58,
   "metadata": {},
   "outputs": [
    {
     "data": {
      "text/plain": [
       "tensor([0.0416, 0.0741, 0.1034, 0.1260, 0.1462, 0.1649, 0.1830, 0.2005, 0.2179,\n",
       "        0.2341, 0.2502, 0.2662, 0.2819, 0.2973, 0.3128, 0.3279, 0.3423, 0.3567,\n",
       "        0.3707, 0.3846, 0.3975, 0.4104, 0.4233, 0.4361, 0.4488, 0.4614, 0.4740,\n",
       "        0.4863, 0.4984, 0.5103, 0.5220, 0.5337, 0.5453, 0.5569, 0.5683, 0.5794,\n",
       "        0.5903, 0.6013, 0.6115, 0.6216, 0.6314, 0.6409, 0.6503, 0.6597, 0.6687,\n",
       "        0.6776, 0.6864, 0.6952, 0.7038, 0.7125, 0.7208, 0.7292, 0.7375, 0.7458,\n",
       "        0.7539, 0.7619, 0.7699, 0.7777, 0.7853, 0.7927, 0.8001, 0.8071, 0.8140,\n",
       "        0.8209, 0.8278, 0.8343, 0.8408, 0.8470, 0.8531, 0.8592, 0.8650, 0.8709,\n",
       "        0.8767, 0.8825, 0.8881, 0.8936, 0.8987, 0.9039, 0.9089, 0.9139, 0.9189,\n",
       "        0.9237, 0.9286, 0.9334, 0.9380, 0.9426, 0.9471, 0.9515, 0.9558, 0.9602,\n",
       "        0.9644, 0.9682, 0.9719, 0.9754, 0.9785, 0.9816, 0.9846, 0.9874, 0.9898,\n",
       "        0.9921, 0.9944, 0.9967, 0.9986, 1.0000], grad_fn=<CumsumBackward0>)"
      ]
     },
     "execution_count": 58,
     "metadata": {},
     "output_type": "execute_result"
    }
   ],
   "source": [
    "cumulative_probs = torch.cumsum(sorted_probs, dim=-1)\n",
    "cumulative_probs"
   ]
  },
  {
   "cell_type": "code",
   "execution_count": 59,
   "metadata": {},
   "outputs": [
    {
     "data": {
      "text/plain": [
       "tensor([False, False, False, False, False, False, False, False, False, False,\n",
       "        False, False, False, False,  True,  True,  True,  True,  True,  True,\n",
       "         True,  True,  True,  True,  True,  True,  True,  True,  True,  True,\n",
       "         True,  True,  True,  True,  True,  True,  True,  True,  True,  True,\n",
       "         True,  True,  True,  True,  True,  True,  True,  True,  True,  True,\n",
       "         True,  True,  True,  True,  True,  True,  True,  True,  True,  True,\n",
       "         True,  True,  True,  True,  True,  True,  True,  True,  True,  True,\n",
       "         True,  True,  True,  True,  True,  True,  True,  True,  True,  True,\n",
       "         True,  True,  True,  True,  True,  True,  True,  True,  True,  True,\n",
       "         True,  True,  True,  True,  True,  True,  True,  True,  True,  True,\n",
       "         True,  True,  True,  True])"
      ]
     },
     "execution_count": 59,
     "metadata": {},
     "output_type": "execute_result"
    }
   ],
   "source": [
    "sorted_indices_to_remove = cumulative_probs > 0.3\n",
    "sorted_indices_to_remove"
   ]
  },
  {
   "cell_type": "code",
   "execution_count": 60,
   "metadata": {},
   "outputs": [
    {
     "data": {
      "text/plain": [
       "tensor([False, False, False, False, False, False, False, False, False, False,\n",
       "        False, False, False, False, False,  True,  True,  True,  True,  True,\n",
       "         True,  True,  True,  True,  True,  True,  True,  True,  True,  True,\n",
       "         True,  True,  True,  True,  True,  True,  True,  True,  True,  True,\n",
       "         True,  True,  True,  True,  True,  True,  True,  True,  True,  True,\n",
       "         True,  True,  True,  True,  True,  True,  True,  True,  True,  True,\n",
       "         True,  True,  True,  True,  True,  True,  True,  True,  True,  True,\n",
       "         True,  True,  True,  True,  True,  True,  True,  True,  True,  True,\n",
       "         True,  True,  True,  True,  True,  True,  True,  True,  True,  True,\n",
       "         True,  True,  True,  True,  True,  True,  True,  True,  True,  True,\n",
       "         True,  True,  True,  True])"
      ]
     },
     "execution_count": 60,
     "metadata": {},
     "output_type": "execute_result"
    }
   ],
   "source": [
    "sorted_indices_to_remove[..., 1:] = sorted_indices_to_remove[..., :-1].clone()\n",
    "sorted_indices_to_remove[..., 0] = 0\n",
    "sorted_indices_to_remove"
   ]
  },
  {
   "cell_type": "code",
   "execution_count": 61,
   "metadata": {},
   "outputs": [
    {
     "data": {
      "text/plain": [
       "tensor([ True,  True,  True,  True,  True, False,  True,  True,  True,  True,\n",
       "         True, False,  True, False,  True,  True,  True,  True,  True,  True,\n",
       "         True,  True, False,  True,  True,  True,  True,  True,  True,  True,\n",
       "         True, False,  True,  True,  True,  True,  True,  True,  True,  True,\n",
       "         True, False,  True,  True,  True,  True, False, False,  True,  True,\n",
       "         True, False,  True,  True,  True,  True,  True,  True,  True,  True,\n",
       "         True,  True,  True,  True,  True,  True,  True,  True,  True,  True,\n",
       "         True,  True,  True, False,  True,  True,  True,  True,  True,  True,\n",
       "         True,  True,  True,  True,  True,  True,  True,  True,  True,  True,\n",
       "         True,  True,  True,  True, False, False, False, False,  True,  True,\n",
       "         True, False,  True,  True])"
      ]
     },
     "execution_count": 61,
     "metadata": {},
     "output_type": "execute_result"
    }
   ],
   "source": [
    "indices_to_remove = sorted_indices_to_remove.scatter(dim=-1, index=sorted_indices, src=sorted_indices_to_remove)\n",
    "indices_to_remove      "
   ]
  },
  {
   "cell_type": "code",
   "execution_count": 62,
   "metadata": {},
   "outputs": [
    {
     "data": {
      "text/plain": [
       "(tensor([0.0140, 0.0102, 0.0059, 0.0046, 0.0046, 0.0187, 0.0048, 0.0094, 0.0054,\n",
       "         0.0070, 0.0069, 0.0155, 0.0116, 0.0181, 0.0143, 0.0127, 0.0025, 0.0101,\n",
       "         0.0084, 0.0058, 0.0119, 0.0044, 0.0154, 0.0045, 0.0117, 0.0050, 0.0049,\n",
       "         0.0089, 0.0128, 0.0082, 0.0098, 0.0203, 0.0073, 0.0043, 0.0076, 0.0057,\n",
       "         0.0080, 0.0042, 0.0028, 0.0023, 0.0090, 0.0175, 0.0030, 0.0038, 0.0078,\n",
       "         0.0139, 0.0162, 0.0416, 0.0044, 0.0083, 0.0095, 0.0157, 0.0126, 0.0126,\n",
       "         0.0088, 0.0129, 0.0062, 0.0051, 0.0035, 0.0050, 0.0014, 0.0081, 0.0088,\n",
       "         0.0061, 0.0110, 0.0121, 0.0061, 0.0086, 0.0058, 0.0066, 0.0018, 0.0129,\n",
       "         0.0069, 0.0325, 0.0144, 0.0074, 0.0065, 0.0023, 0.0110, 0.0086, 0.0080,\n",
       "         0.0069, 0.0116, 0.0048, 0.0037, 0.0110, 0.0128, 0.0023, 0.0118, 0.0151,\n",
       "         0.0031, 0.0094, 0.0123, 0.0084, 0.0173, 0.0226, 0.0161, 0.0292, 0.0031,\n",
       "         0.0058, 0.0052, 0.0160, 0.0114, 0.0050], grad_fn=<SoftmaxBackward0>),\n",
       " tensor([0.0000, 0.0000, 0.0000, 0.0000, 0.0000, 0.0187, 0.0000, 0.0000, 0.0000,\n",
       "         0.0000, 0.0000, 0.0155, 0.0000, 0.0181, 0.0000, 0.0000, 0.0000, 0.0000,\n",
       "         0.0000, 0.0000, 0.0000, 0.0000, 0.0154, 0.0000, 0.0000, 0.0000, 0.0000,\n",
       "         0.0000, 0.0000, 0.0000, 0.0000, 0.0203, 0.0000, 0.0000, 0.0000, 0.0000,\n",
       "         0.0000, 0.0000, 0.0000, 0.0000, 0.0000, 0.0175, 0.0000, 0.0000, 0.0000,\n",
       "         0.0000, 0.0162, 0.0416, 0.0000, 0.0000, 0.0000, 0.0157, 0.0000, 0.0000,\n",
       "         0.0000, 0.0000, 0.0000, 0.0000, 0.0000, 0.0000, 0.0000, 0.0000, 0.0000,\n",
       "         0.0000, 0.0000, 0.0000, 0.0000, 0.0000, 0.0000, 0.0000, 0.0000, 0.0000,\n",
       "         0.0000, 0.0325, 0.0000, 0.0000, 0.0000, 0.0000, 0.0000, 0.0000, 0.0000,\n",
       "         0.0000, 0.0000, 0.0000, 0.0000, 0.0000, 0.0000, 0.0000, 0.0000, 0.0000,\n",
       "         0.0000, 0.0000, 0.0000, 0.0000, 0.0173, 0.0226, 0.0161, 0.0292, 0.0000,\n",
       "         0.0000, 0.0000, 0.0160, 0.0000, 0.0000], grad_fn=<MaskedFillBackward0>))"
      ]
     },
     "execution_count": 62,
     "metadata": {},
     "output_type": "execute_result"
    }
   ],
   "source": [
    "probs = soft.masked_fill(indices_to_remove, 0.0)\n",
    "soft, probs"
   ]
  },
  {
   "cell_type": "code",
   "execution_count": 63,
   "metadata": {},
   "outputs": [
    {
     "data": {
      "text/plain": [
       "tensor([0.0000, 0.0000, 0.0000, 0.0000, 0.0000, 0.0598, 0.0000, 0.0000, 0.0000,\n",
       "        0.0000, 0.0000, 0.0494, 0.0000, 0.0579, 0.0000, 0.0000, 0.0000, 0.0000,\n",
       "        0.0000, 0.0000, 0.0000, 0.0000, 0.0493, 0.0000, 0.0000, 0.0000, 0.0000,\n",
       "        0.0000, 0.0000, 0.0000, 0.0000, 0.0648, 0.0000, 0.0000, 0.0000, 0.0000,\n",
       "        0.0000, 0.0000, 0.0000, 0.0000, 0.0000, 0.0559, 0.0000, 0.0000, 0.0000,\n",
       "        0.0000, 0.0518, 0.1331, 0.0000, 0.0000, 0.0000, 0.0502, 0.0000, 0.0000,\n",
       "        0.0000, 0.0000, 0.0000, 0.0000, 0.0000, 0.0000, 0.0000, 0.0000, 0.0000,\n",
       "        0.0000, 0.0000, 0.0000, 0.0000, 0.0000, 0.0000, 0.0000, 0.0000, 0.0000,\n",
       "        0.0000, 0.1039, 0.0000, 0.0000, 0.0000, 0.0000, 0.0000, 0.0000, 0.0000,\n",
       "        0.0000, 0.0000, 0.0000, 0.0000, 0.0000, 0.0000, 0.0000, 0.0000, 0.0000,\n",
       "        0.0000, 0.0000, 0.0000, 0.0000, 0.0554, 0.0722, 0.0516, 0.0935, 0.0000,\n",
       "        0.0000, 0.0000, 0.0511, 0.0000, 0.0000], grad_fn=<DivBackward0>)"
      ]
     },
     "execution_count": 63,
     "metadata": {},
     "output_type": "execute_result"
    }
   ],
   "source": [
    "scale_prob = probs = probs / probs.sum(dim=-1, keepdim=True)\n",
    "scale_prob"
   ]
  },
  {
   "cell_type": "code",
   "execution_count": 86,
   "metadata": {},
   "outputs": [
    {
     "data": {
      "text/plain": [
       "(tensor(0.1039, grad_fn=<SelectBackward0>),\n",
       " tensor(0.0935, grad_fn=<SelectBackward0>),\n",
       " tensor(0.1331, grad_fn=<SelectBackward0>),\n",
       " tensor(0.0493, grad_fn=<SelectBackward0>),\n",
       " tensor(0.0648, grad_fn=<SelectBackward0>),\n",
       " tensor(0.0518, grad_fn=<SelectBackward0>),\n",
       " tensor(0.0140, grad_fn=<SelectBackward0>))"
      ]
     },
     "execution_count": 86,
     "metadata": {},
     "output_type": "execute_result"
    }
   ],
   "source": [
    "scale_prob[73], scale_prob[97], scale_prob[47], scale_prob[22], scale_prob[31], scale_prob[46], soft[0]"
   ]
  },
  {
   "cell_type": "code",
   "execution_count": 85,
   "metadata": {},
   "outputs": [
    {
     "data": {
      "text/plain": [
       "tensor([0])"
      ]
     },
     "execution_count": 85,
     "metadata": {},
     "output_type": "execute_result"
    }
   ],
   "source": [
    "torch.multinomial(soft, 1)"
   ]
  },
  {
   "cell_type": "code",
   "execution_count": null,
   "metadata": {},
   "outputs": [],
   "source": [
    " cumulative_probs = torch.cumsum(sorted_probs, dim=-1)\n",
    "                sorted_indices_to_remove = cumulative_probs > top_p\n",
    "                sorted_indices_to_remove[..., 1:] = sorted_indices_to_remove[..., :-1].clone()\n",
    "                sorted_indices_to_remove[..., 0] = 0\n",
    "                indices_to_remove = sorted_indices_to_remove.scatter(dim=-1, index=sorted_indices, src=sorted_indices_to_remove)\n",
    "                probs = probs.masked_fill(indices_to_remove, 0.0)\n",
    "                probs = probs / probs.sum(dim=-1, keepdim=True)"
   ]
  },
  {
   "cell_type": "code",
   "execution_count": null,
   "metadata": {},
   "outputs": [],
   "source": [
    "import torch\n",
    "import torch.nn.functional as F\n",
    "\n",
    "def generate(self, idx, pos, max_seq_length, temperature=1.0, top_p=1.0, sampling=True):\n",
    "    for i in range(max_seq_length):\n",
    "        logits, _ = self(idx[:,-context_length:], pos)\n",
    "        logits = logits[:, -1, :]\n",
    "        \n",
    "        # Apply temperature\n",
    "        logits = logits / temperature\n",
    "        \n",
    "        if sampling:\n",
    "            probs = F.softmax(logits, dim=-1)\n",
    "            \n",
    "            # Apply top_p (nucleus) sampling\n",
    "            if top_p < 1.0:\n",
    "                sorted_probs, sorted_indices = torch.sort(probs, descending=True)\n",
    "                cumulative_probs = torch.cumsum(sorted_probs, dim=-1)\n",
    "                sorted_indices_to_remove = cumulative_probs > top_p\n",
    "                sorted_indices_to_remove[..., 1:] = sorted_indices_to_remove[..., :-1].clone()\n",
    "                sorted_indices_to_remove[..., 0] = 0\n",
    "                indices_to_remove = sorted_indices_to_remove.scatter(dim=-1, index=sorted_indices, src=sorted_indices_to_remove)\n",
    "                probs = probs.masked_fill(indices_to_remove, 0.0)\n",
    "                probs = probs / probs.sum(dim=-1, keepdim=True)  # renormalize\n",
    "            \n",
    "            generated_char_ids = torch.multinomial(probs, 1)\n",
    "            idx = torch.cat((idx, generated_char_ids), dim=1)\n",
    "        else:\n",
    "            generated_char_ids = logits.argmax(-1)\n",
    "            idx = torch.cat((idx, generated_char_ids.unsqueeze(0).T), dim=1)\n",
    "    \n",
    "    return idx"
   ]
  }
 ],
 "metadata": {
  "kernelspec": {
   "display_name": "Python [conda env:573]",
   "language": "python",
   "name": "conda-env-573-py"
  },
  "language_info": {
   "codemirror_mode": {
    "name": "ipython",
    "version": 3
   },
   "file_extension": ".py",
   "mimetype": "text/x-python",
   "name": "python",
   "nbconvert_exporter": "python",
   "pygments_lexer": "ipython3",
   "version": "3.10.6"
  }
 },
 "nbformat": 4,
 "nbformat_minor": 4
}
